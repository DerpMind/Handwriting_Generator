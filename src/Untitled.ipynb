{
 "cells": [
  {
   "cell_type": "code",
   "execution_count": 2,
   "metadata": {},
   "outputs": [
    {
     "name": "stdout",
     "output_type": "stream",
     "text": [
      "/home/lorenz/DSR/Diktatkorrektur/Handwriting_Generator/src\n"
     ]
    }
   ],
   "source": [
    "!pwd"
   ]
  },
  {
   "cell_type": "code",
   "execution_count": 16,
   "metadata": {},
   "outputs": [],
   "source": [
    "import glob2 as glob\n",
    "\n",
    "paths = glob.glob('/usr/share/fonts/**/*.ttf')\n",
    "#print(paths)"
   ]
  },
  {
   "cell_type": "code",
   "execution_count": 19,
   "metadata": {},
   "outputs": [],
   "source": [
    "from PIL import Image, ImageDraw, ImageFont\n",
    "     \n",
    "img = Image.new('RGB', (180, 30), color = 'red')\n",
    "fnt = ImageFont.truetype(paths[2], 15)\n",
    "d = ImageDraw.Draw(img)\n",
    "d.text((10,10), \"Hello world\", font=fnt, fill=(255, 255, 0))\n",
    "img.save('../data/example.png')\n"
   ]
  },
  {
   "cell_type": "code",
   "execution_count": 34,
   "metadata": {},
   "outputs": [],
   "source": [
    "for idx, font_name in enumerate(paths):\n",
    "    try:\n",
    "        fnt = ImageFont.truetype(paths[idx], 100)\n",
    "    \n",
    "        img = Image.new('RGB', (900, 150), color = 'white')\n",
    "        d = ImageDraw.Draw(img)\n",
    "        d.text((10,10), \"Hello world\", font=fnt, fill=(0, 0, 0))\n",
    "        temp = font_name.split(\"/\")[-1].split(\".\")[0]\n",
    "        img.save(f'../data/example{temp}.png')\n",
    "                 \n",
    "    except:\n",
    "        pass\n",
    "                 \n",
    "                 "
   ]
  },
  {
   "cell_type": "code",
   "execution_count": 24,
   "metadata": {},
   "outputs": [
    {
     "data": {
      "text/plain": [
       "['/usr/share/fonts/truetype/liberation2/LiberationMono-Bold', 'ttf']"
      ]
     },
     "execution_count": 24,
     "metadata": {},
     "output_type": "execute_result"
    }
   ],
   "source": [
    "paths[0].split(\".\")[0]"
   ]
  },
  {
   "cell_type": "code",
   "execution_count": null,
   "metadata": {},
   "outputs": [],
   "source": []
  }
 ],
 "metadata": {
  "kernelspec": {
   "display_name": "Python 3",
   "language": "python",
   "name": "python3"
  },
  "language_info": {
   "codemirror_mode": {
    "name": "ipython",
    "version": 3
   },
   "file_extension": ".py",
   "mimetype": "text/x-python",
   "name": "python",
   "nbconvert_exporter": "python",
   "pygments_lexer": "ipython3",
   "version": "3.6.6"
  }
 },
 "nbformat": 4,
 "nbformat_minor": 2
}
