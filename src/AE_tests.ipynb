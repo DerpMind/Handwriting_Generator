{
 "cells": [
  {
   "cell_type": "code",
   "execution_count": 3,
   "metadata": {},
   "outputs": [
    {
     "name": "stdout",
     "output_type": "stream",
     "text": [
      "Collecting git+https://github.com/AI-Guru/ngdlm.git\n",
      "  Cloning https://github.com/AI-Guru/ngdlm.git to /tmp/pip-req-build-ax_nfbdu\n",
      "Requirement already satisfied (use --upgrade to upgrade): ngdlm==0.0.2rc1 from git+https://github.com/AI-Guru/ngdlm.git in /home/lorenz/.conda/envs/Basics/lib/python3.6/site-packages\n",
      "Requirement already satisfied: keras in /home/lorenz/.conda/envs/Basics/lib/python3.6/site-packages (from ngdlm==0.0.2rc1) (2.2.2)\n",
      "Requirement already satisfied: tensorflow in /home/lorenz/.conda/envs/Basics/lib/python3.6/site-packages (from ngdlm==0.0.2rc1) (1.10.0)\n",
      "Requirement already satisfied: matplotlib in /home/lorenz/.conda/envs/Basics/lib/python3.6/site-packages (from ngdlm==0.0.2rc1) (2.2.3)\n",
      "Requirement already satisfied: numpy>=1.9.1 in /home/lorenz/.conda/envs/Basics/lib/python3.6/site-packages (from keras->ngdlm==0.0.2rc1) (1.15.1)\n",
      "Requirement already satisfied: scipy>=0.14 in /home/lorenz/.conda/envs/Basics/lib/python3.6/site-packages (from keras->ngdlm==0.0.2rc1) (1.1.0)\n",
      "Requirement already satisfied: six>=1.9.0 in /home/lorenz/.conda/envs/Basics/lib/python3.6/site-packages (from keras->ngdlm==0.0.2rc1) (1.11.0)\n",
      "Requirement already satisfied: pyyaml in /home/lorenz/.conda/envs/Basics/lib/python3.6/site-packages (from keras->ngdlm==0.0.2rc1) (3.13)\n",
      "Requirement already satisfied: h5py in /home/lorenz/.conda/envs/Basics/lib/python3.6/site-packages (from keras->ngdlm==0.0.2rc1) (2.8.0)\n",
      "Requirement already satisfied: keras_applications==1.0.4 in /home/lorenz/.conda/envs/Basics/lib/python3.6/site-packages (from keras->ngdlm==0.0.2rc1) (1.0.4)\n",
      "Requirement already satisfied: keras_preprocessing==1.0.2 in /home/lorenz/.conda/envs/Basics/lib/python3.6/site-packages (from keras->ngdlm==0.0.2rc1) (1.0.2)\n",
      "Requirement already satisfied: grpcio>=1.8.6 in /home/lorenz/.conda/envs/Basics/lib/python3.6/site-packages (from tensorflow->ngdlm==0.0.2rc1) (1.12.1)\n",
      "Requirement already satisfied: wheel>=0.26 in /home/lorenz/.conda/envs/Basics/lib/python3.6/site-packages (from tensorflow->ngdlm==0.0.2rc1) (0.31.1)\n",
      "Requirement already satisfied: gast>=0.2.0 in /home/lorenz/.conda/envs/Basics/lib/python3.6/site-packages (from tensorflow->ngdlm==0.0.2rc1) (0.2.0)\n",
      "Requirement already satisfied: absl-py>=0.1.6 in /home/lorenz/.conda/envs/Basics/lib/python3.6/site-packages (from tensorflow->ngdlm==0.0.2rc1) (0.4.1)\n",
      "Requirement already satisfied: protobuf>=3.6.0 in /home/lorenz/.conda/envs/Basics/lib/python3.6/site-packages (from tensorflow->ngdlm==0.0.2rc1) (3.6.0)\n",
      "Requirement already satisfied: tensorboard<1.11.0,>=1.10.0 in /home/lorenz/.conda/envs/Basics/lib/python3.6/site-packages (from tensorflow->ngdlm==0.0.2rc1) (1.10.0)\n",
      "Requirement already satisfied: termcolor>=1.1.0 in /home/lorenz/.conda/envs/Basics/lib/python3.6/site-packages (from tensorflow->ngdlm==0.0.2rc1) (1.1.0)\n",
      "Requirement already satisfied: astor>=0.6.0 in /home/lorenz/.conda/envs/Basics/lib/python3.6/site-packages (from tensorflow->ngdlm==0.0.2rc1) (0.7.1)\n",
      "Requirement already satisfied: setuptools<=39.1.0 in /home/lorenz/.conda/envs/Basics/lib/python3.6/site-packages (from tensorflow->ngdlm==0.0.2rc1) (39.1.0)\n",
      "Requirement already satisfied: cycler>=0.10 in /home/lorenz/.conda/envs/Basics/lib/python3.6/site-packages (from matplotlib->ngdlm==0.0.2rc1) (0.10.0)\n",
      "Requirement already satisfied: pyparsing!=2.0.4,!=2.1.2,!=2.1.6,>=2.0.1 in /home/lorenz/.conda/envs/Basics/lib/python3.6/site-packages (from matplotlib->ngdlm==0.0.2rc1) (2.2.0)\n",
      "Requirement already satisfied: python-dateutil>=2.1 in /home/lorenz/.conda/envs/Basics/lib/python3.6/site-packages (from matplotlib->ngdlm==0.0.2rc1) (2.7.3)\n",
      "Requirement already satisfied: pytz in /home/lorenz/.conda/envs/Basics/lib/python3.6/site-packages (from matplotlib->ngdlm==0.0.2rc1) (2018.5)\n",
      "Requirement already satisfied: kiwisolver>=1.0.1 in /home/lorenz/.conda/envs/Basics/lib/python3.6/site-packages (from matplotlib->ngdlm==0.0.2rc1) (1.0.1)\n",
      "Requirement already satisfied: werkzeug>=0.11.10 in /home/lorenz/.conda/envs/Basics/lib/python3.6/site-packages (from tensorboard<1.11.0,>=1.10.0->tensorflow->ngdlm==0.0.2rc1) (0.14.1)\n",
      "Requirement already satisfied: markdown>=2.6.8 in /home/lorenz/.conda/envs/Basics/lib/python3.6/site-packages (from tensorboard<1.11.0,>=1.10.0->tensorflow->ngdlm==0.0.2rc1) (2.6.11)\n",
      "Building wheels for collected packages: ngdlm\n",
      "  Running setup.py bdist_wheel for ngdlm ... \u001b[?25ldone\n",
      "\u001b[?25h  Stored in directory: /tmp/pip-ephem-wheel-cache-qaytai4_/wheels/93/06/27/e156acb49f475c364c3c9fa4ad4ab7bfa38808bff5bf9c4647\n",
      "Successfully built ngdlm\n"
     ]
    }
   ],
   "source": [
    "import glob2 as glob\n",
    "from PIL import Image, ImageDraw, ImageFont\n",
    "import matplotlib.pyplot as plt\n",
    "import numpy as np\n",
    "\n",
    "from keras import models, layers\n",
    "from ngdlm import models as ngdlmodels\n",
    "from ngdlm import utils as ngdlutils\n",
    "from keras import models, layers\n",
    "\n",
    "# Import NGDLM models.\n",
    "!pip install git+https://github.com/AI-Guru/ngdlm.git\n",
    "from ngdlm import models as ngdlmodels"
   ]
  },
  {
   "cell_type": "code",
   "execution_count": 11,
   "metadata": {},
   "outputs": [
    {
     "name": "stdout",
     "output_type": "stream",
     "text": [
      "_________________________________________________________________\n",
      "Layer (type)                 Output Shape              Param #   \n",
      "=================================================================\n",
      "input_2 (InputLayer)         (None, 128, 128, 1)       0         \n",
      "_________________________________________________________________\n",
      "conv2d_6 (Conv2D)            (None, 128, 128, 32)      2080      \n",
      "_________________________________________________________________\n",
      "max_pooling2d_3 (MaxPooling2 (None, 64, 64, 32)        0         \n",
      "_________________________________________________________________\n",
      "conv2d_7 (Conv2D)            (None, 64, 64, 32)        65568     \n",
      "_________________________________________________________________\n",
      "max_pooling2d_4 (MaxPooling2 (None, 32, 32, 32)        0         \n",
      "_________________________________________________________________\n",
      "conv2d_8 (Conv2D)            (None, 32, 32, 32)        9248      \n",
      "_________________________________________________________________\n",
      "up_sampling2d_3 (UpSampling2 (None, 64, 64, 32)        0         \n",
      "_________________________________________________________________\n",
      "conv2d_9 (Conv2D)            (None, 64, 64, 32)        9248      \n",
      "_________________________________________________________________\n",
      "up_sampling2d_4 (UpSampling2 (None, 128, 128, 32)      0         \n",
      "_________________________________________________________________\n",
      "conv2d_10 (Conv2D)           (None, 128, 128, 1)       289       \n",
      "=================================================================\n",
      "Total params: 86,433\n",
      "Trainable params: 86,433\n",
      "Non-trainable params: 0\n",
      "_________________________________________________________________\n"
     ]
    }
   ],
   "source": [
    "input_img = layers.Input(shape=(128, 128, 1))\n",
    "x = layers.Conv2D(32, (3, 3), activation=\"relu\", padding=\"same\")(input_img)\n",
    "x = layers.MaxPooling2D((2, 2), padding=\"same\")(x)\n",
    "x = layers.Conv2D(32, (3, 3), activation=\"relu\", padding=\"same\")(x)\n",
    "encoded = layers.MaxPooling2D((2, 2), padding=\"same\")(x)\n",
    "x = layers.Flatten()\n",
    "\n",
    "x = layers.Conv2D(32, (3, 3), activation=\"relu\", padding=\"same\")(encoded)\n",
    "x = layers.UpSampling2D((2, 2))(x)\n",
    "x = layers.Conv2D(32, (3, 3), activation=\"relu\", padding=\"same\")(x)\n",
    "x = layers.UpSampling2D((2, 2))(x)\n",
    "decoded = layers.Conv2D(1, (3, 3), activation=\"sigmoid\", padding=\"same\")(x)\n",
    "\n",
    "autoencoder = models.Model(input_img, decoded)\n",
    "autoencoder.compile(\n",
    "    optimizer = \"adadelta\",\n",
    "    loss = \"binary_crossentropy\"\n",
    ")\n",
    "autoencoder.summary()\n"
   ]
  },
  {
   "cell_type": "code",
   "execution_count": 5,
   "metadata": {},
   "outputs": [],
   "source": [
    "# Train- and validation-data.\n",
    "from PIL import Image\n",
    "import glob2 as glob\n",
    "from aux_functions import helpers\n",
    "\n",
    "image_list = []\n",
    "for filename in glob.glob('../data/a/*.png'): #assuming gif\n",
    "    im=np.array(Image.open(filename))\n",
    "    im=helpers.rgb2gray(im)\n",
    "    image_list.append(im)"
   ]
  },
  {
   "cell_type": "code",
   "execution_count": 7,
   "metadata": {},
   "outputs": [
    {
     "data": {
      "text/plain": [
       "(369, 128, 128, 1)"
      ]
     },
     "execution_count": 7,
     "metadata": {},
     "output_type": "execute_result"
    }
   ],
   "source": [
    "x_input_train = np.array(image_list)\n",
    "#(x_train, _), (x_test, _)= mnist.load_data()\n",
    "\n",
    "x_input_train = x_input_train.astype('float32')/255.0\n",
    "#x_input_validate = x_test.astype('float32')/255.0 \n",
    "\n",
    "x_input_train = x_input_train.reshape((-1, 128, 128, 1))\n",
    "x_input_train.shape"
   ]
  },
  {
   "cell_type": "code",
   "execution_count": 8,
   "metadata": {},
   "outputs": [
    {
     "name": "stdout",
     "output_type": "stream",
     "text": [
      "Train...\n",
      "Epoch 1/10\n",
      "369/369 [==============================] - 12s 33ms/step - loss: 0.0543\n",
      "Epoch 2/10\n",
      "369/369 [==============================] - 13s 35ms/step - loss: 0.0204\n",
      "Epoch 3/10\n",
      "369/369 [==============================] - 15s 41ms/step - loss: 0.0176\n",
      "Epoch 4/10\n",
      "369/369 [==============================] - 17s 45ms/step - loss: 0.0162\n",
      "Epoch 5/10\n",
      "369/369 [==============================] - 71s 191ms/step - loss: 0.0158\n",
      "Epoch 6/10\n",
      "369/369 [==============================] - 46s 126ms/step - loss: 0.0152\n",
      "Epoch 7/10\n",
      "369/369 [==============================] - 13s 34ms/step - loss: 0.0150\n",
      "Epoch 8/10\n",
      "369/369 [==============================] - 13s 35ms/step - loss: 0.0148\n",
      "Epoch 9/10\n",
      "369/369 [==============================] - 13s 35ms/step - loss: 0.0146\n",
      "Epoch 10/10\n",
      "369/369 [==============================] - 13s 35ms/step - loss: 0.0144\n"
     ]
    }
   ],
   "source": [
    "# Train.\n",
    "print(\"Train...\")\n",
    "history = autoencoder.fit(\n",
    "        x_input_train, x_input_train,\n",
    "        epochs=10,\n",
    "        batch_size=1,\n",
    "        shuffle=True\n",
    "        #validation_data=(x_input_validate, x_input_validate)\n",
    "    )\n",
    "\n",
    "# Evaluate.\n",
    "#print(\"Evaluate...\")\n",
    "#loss = autoencoder.evaluate(x_input_test, x_input_test)\n",
    "#print(\"Loss:\", loss)"
   ]
  },
  {
   "cell_type": "code",
   "execution_count": 9,
   "metadata": {},
   "outputs": [],
   "source": [
    "decoded_imgs = autoencoder.predict(x_input_train) "
   ]
  },
  {
   "cell_type": "code",
   "execution_count": 10,
   "metadata": {},
   "outputs": [
    {
     "data": {
      "image/png": "[encoded data removed]",
      "text/plain": [
       "<Figure size 1440x288 with 20 Axes>"
      ]
     },
     "metadata": {
      "needs_background": "light"
     },
     "output_type": "display_data"
    }
   ],
   "source": [
    "n = 10\n",
    "plt.figure(figsize=(20,4))\n",
    "for i in range(n):\n",
    "    ax = plt.subplot(2, n, i + 1)\n",
    "    plt.imshow(x_input_train[i].reshape((128,128)), cmap = \"gray\")\n",
    "    ax.get_xaxis().set_visible(False)\n",
    "    ax.get_yaxis().set_visible(False)\n",
    "    \n",
    "    ax = plt.subplot(2, n, i + 1 + n)\n",
    "    plt.imshow(decoded_imgs[i].reshape((128, 128)), cmap = \"gray\")\n",
    "    ax.get_xaxis().set_visible(False)\n",
    "    ax.get_yaxis().set_visible(False)\n",
    "\n",
    "plt.show()\n",
    "plt.close()"
   ]
  },
  {
   "cell_type": "code",
   "execution_count": null,
   "metadata": {},
   "outputs": [],
   "source": []
  },
  {
   "cell_type": "code",
   "execution_count": null,
   "metadata": {},
   "outputs": [],
   "source": []
  },
  {
   "cell_type": "code",
   "execution_count": null,
   "metadata": {},
   "outputs": [],
   "source": []
  },
  {
   "cell_type": "code",
   "execution_count": null,
   "metadata": {},
   "outputs": [],
   "source": []
  },
  {
   "cell_type": "code",
   "execution_count": null,
   "metadata": {},
   "outputs": [],
   "source": []
  },
  {
   "cell_type": "code",
   "execution_count": null,
   "metadata": {},
   "outputs": [],
   "source": []
  },
  {
   "cell_type": "code",
   "execution_count": null,
   "metadata": {},
   "outputs": [],
   "source": []
  },
  {
   "cell_type": "code",
   "execution_count": null,
   "metadata": {},
   "outputs": [],
   "source": []
  },
  {
   "cell_type": "code",
   "execution_count": null,
   "metadata": {},
   "outputs": [],
   "source": []
  },
  {
   "cell_type": "code",
   "execution_count": null,
   "metadata": {},
   "outputs": [],
   "source": []
  },
  {
   "cell_type": "code",
   "execution_count": null,
   "metadata": {},
   "outputs": [],
   "source": []
  },
  {
   "cell_type": "code",
   "execution_count": null,
   "metadata": {},
   "outputs": [],
   "source": []
  }
 ],
 "metadata": {
  "kernelspec": {
   "display_name": "Python 3",
   "language": "python",
   "name": "python3"
  },
  "language_info": {
   "codemirror_mode": {
    "name": "ipython",
    "version": 3
   },
   "file_extension": ".py",
   "mimetype": "text/x-python",
   "name": "python",
   "nbconvert_exporter": "python",
   "pygments_lexer": "ipython3",
   "version": "3.6.6"
  }
 },
 "nbformat": 4,
 "nbformat_minor": 2
}
