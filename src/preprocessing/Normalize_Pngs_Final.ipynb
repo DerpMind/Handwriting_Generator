{
 "cells": [
  {
   "cell_type": "code",
   "execution_count": 16,
   "metadata": {},
   "outputs": [],
   "source": [
    "import sys, os\n",
    "sys.path.insert(0,'..')\n",
    "from aux_functions.helpers import *\n",
    "import matplotlib.pyplot as plt\n",
    "import numpy as np\n",
    "import pickle\n",
    "import glob2 as glob"
   ]
  },
  {
   "cell_type": "code",
   "execution_count": 3,
   "metadata": {},
   "outputs": [],
   "source": [
    "letters = ['A', 'B', 'C', 'D', 'E', 'F', 'G','H', 'I', 'J', 'K', 'L', 'M', 'N', 'O', 'P', 'Q', 'R', \\\n",
    "           'S', 'T', 'U', 'V', 'W', 'X', 'Y', 'Z', 'a', 'b', 'd', 'e', 'f', 'g', 'h', 'n', 'q', 'r',\\\n",
    "           't']\n"
   ]
  },
  {
   "cell_type": "code",
   "execution_count": 31,
   "metadata": {},
   "outputs": [],
   "source": [
    "for i in letters:\n",
    "    if not os.path.exists(f'../../data/{i}'):\n",
    "        os.mkdir(f'../../data/{i}')"
   ]
  },
  {
   "cell_type": "code",
   "execution_count": 5,
   "metadata": {},
   "outputs": [
    {
     "data": {
      "text/plain": [
       "645"
      ]
     },
     "execution_count": 5,
     "metadata": {},
     "output_type": "execute_result"
    }
   ],
   "source": [
    "selected_fonts = pickle.load(open('../../data/fonts/handwritten_from_liz.p', 'rb'))\n",
    "len(selected_fonts)"
   ]
  },
  {
   "cell_type": "code",
   "execution_count": 7,
   "metadata": {},
   "outputs": [
    {
     "name": "stdout",
     "output_type": "stream",
     "text": [
      "A\n",
      "../../data/fonts/Simplesnails ver 4.ttf did not successfully generate image\n",
      "A\n",
      "../../data/fonts/Font linda.ttf did not successfully generate image\n",
      "A\n",
      "../../data/fonts/As Cute As.ttf did not successfully generate image\n",
      "A\n",
      "../../data/fonts/TairaK.ttf did not successfully generate image\n",
      "O\n",
      "../../data/fonts/danielbk.ttf did not successfully generate image\n",
      "A\n",
      "../../data/fonts/kensaavedra.ttf did not successfully generate image\n",
      "A\n",
      "../../data/fonts/Bad Handwriting 7.ttf did not successfully generate image\n",
      "A\n",
      "../../data/fonts/Rubynt Demo.ttf did not successfully generate image\n",
      "A\n",
      "../../data/fonts/QueenWaffle-DEMO.ttf did not successfully generate image\n",
      "A\n",
      "../../data/fonts/!!! Handwritingg _3.ttf did not successfully generate image\n",
      "A\n",
      "../../data/fonts/Rosse DEMO.ttf did not successfully generate image\n",
      "A\n",
      "../../data/fonts/YelloveDEMO.ttf did not successfully generate image\n"
     ]
    }
   ],
   "source": [
    "for idx, font in enumerate(selected_fonts):\n",
    "    path = f\"../../data/fonts/{font}.ttf\"\n",
    "    for char in letters:\n",
    "        try:\n",
    "            downsize_factor = downsize_parameters(path, char)\n",
    "            x_shift, y_shift = decrop_parameters(path,char, downsize_factor=downsize_factor)\n",
    "            dilate_factor = dilate_parameters(path,char, downsize_factor=downsize_factor,\n",
    "                                 x_shift=x_shift, y_shift=y_shift)\n",
    "            x_shift, y_shift = decrop_parameters(path, char, downsize_factor=downsize_factor,\n",
    "                                    dilate_factor=dilate_factor)\n",
    "            x_shift, y_shift = center_parameters(path, char, downsize_factor=downsize_factor,\n",
    "                                    dilate_factor=dilate_factor, x_shift=x_shift, y_shift=y_shift)\n",
    "            pxl = processed_img_constructor(path, char, downsize_factor=downsize_factor,\n",
    "                               dilate_factor=dilate_factor, x_shift=x_shift, y_shift=y_shift)\n",
    "        except:\n",
    "            count = count+1\n",
    "            print(char)\n",
    "            \n",
    "            print(f'{path} did not successfully generate image')\n",
    "            for char in letters:\n",
    "                if os.path.exists(f'../../data/{char}/{font}.png'):\n",
    "                    os.remove(f'../../data/{char}/{font}.png')\n",
    "            break\n",
    "                    \n",
    "                    "
   ]
  },
  {
   "cell_type": "code",
   "execution_count": 27,
   "metadata": {},
   "outputs": [],
   "source": [
    "#only retain fonts that exist for all letters (=full set of letters)\n",
    "\n",
    "reference_fonts = [font.split(\"/\")[-1] for font in glob.glob('../../data/a/*.png')]\n",
    "for font in reference_fonts:\n",
    "    for char in letters:\n",
    "        if (not os.path.exists(f'../../data/{char}/{font}')):\n",
    "            print(f'../../data/{char}/{font}')\n",
    "            for char2 in letters:\n",
    "                if (os.path.exists(f'../../data/{char2}/{font}')):\n",
    "                    os.remove(f'../../data/{char2}/{font}')\n",
    "        break"
   ]
  }
 ],
 "metadata": {
  "kernelspec": {
   "display_name": "Python 3",
   "language": "python",
   "name": "python3"
  },
  "language_info": {
   "codemirror_mode": {
    "name": "ipython",
    "version": 3
   },
   "file_extension": ".py",
   "mimetype": "text/x-python",
   "name": "python",
   "nbconvert_exporter": "python",
   "pygments_lexer": "ipython3",
   "version": "3.6.6"
  }
 },
 "nbformat": 4,
 "nbformat_minor": 1
}
