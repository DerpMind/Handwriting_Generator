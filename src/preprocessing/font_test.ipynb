{
 "cells": [
  {
   "cell_type": "code",
   "execution_count": null,
   "metadata": {},
   "outputs": [],
   "source": [
    "!pwd"
   ]
  },
  {
   "cell_type": "code",
   "execution_count": 2,
   "metadata": {},
   "outputs": [
    {
     "name": "stdout",
     "output_type": "stream",
     "text": [
      "['../data/fonts/ADAMSFONT.ttf', '../data/fonts/OMGWriteLikeWilliam.ttf', '../data/fonts/fourHand_TRIAL.ttf', '../data/fonts/Glenns Hand.ttf', '../data/fonts/tough_dog.ttf', '../data/fonts/Vintlys_Hand.ttf', '../data/fonts/Nebbulla.ttf', '../data/fonts/seminggu_di_kota_cianjur.ttf', '../data/fonts/Barely_Handwritten.ttf', '../data/fonts/Handwriting.ttf']\n"
     ]
    }
   ],
   "source": [
    "import glob2 as glob\n",
    "from PIL import Image, ImageDraw, ImageFont\n",
    "import matplotlib.pyplot as plt\n",
    "import pickle\n",
    "\n",
    "paths = glob.glob('../data/fonts/*.ttf')\n",
    "print(paths[:10])"
   ]
  },
  {
   "cell_type": "code",
   "execution_count": 8,
   "metadata": {},
   "outputs": [],
   "source": [
    "#fonts that we should ignore: ones that we have rejected via oompa loompa work,\n",
    "#and ones that we have selected via oompa loompa work\n",
    "ignored_fonts = pickle.load(open('../data/fonts/handwritten_1_to_738.p', 'rb'))\n",
    "more_ignored_fonts = pickle.load(open('../data/fonts/handwritten_738_to_757.p', 'rb'))\n",
    "#rejections from liz \n",
    "rejected_fonts = pickle.load(open('../data/fonts/rejections_from_liz.p', 'rb'))\n",
    "#selections from liz\n",
    "selected_fonts = pickle.load(open('../data/fonts/handwritten_from_liz.p','rb'))\n"
   ]
  },
  {
   "cell_type": "code",
   "execution_count": 9,
   "metadata": {},
   "outputs": [],
   "source": [
    "\n",
    "ignored_paths = []\n",
    "for i in selected_fonts:\n",
    "    path = f'../data/fonts/{i}.ttf'\n",
    "    ignored_paths.append(path)\n",
    "for i in more_ignored_fonts:\n",
    "    path = f'../data/fonts/{i}.ttf'\n",
    "    ignored_paths.append(path)\n",
    "for i in rejected_fonts:\n",
    "    path = f'../data/fonts/{i}.ttf'\n",
    "    ignored_paths.append(path)\n",
    "for i in selected_fonts:\n",
    "    path = f'../data/fonts/{i}.ttf'\n",
    "    ignored_paths.append(path)"
   ]
  },
  {
   "cell_type": "code",
   "execution_count": 11,
   "metadata": {},
   "outputs": [
    {
     "name": "stdout",
     "output_type": "stream",
     "text": [
      "4477\n",
      "1072\n"
     ]
    }
   ],
   "source": [
    "# create a 'set' object on the ignored paths and on the big path list\n",
    "ignored_paths = set(ignored_paths)\n",
    "paths_copy = paths.copy()\n",
    "paths_copy = set(paths_copy)\n",
    "print(len(paths_copy))\n",
    "print(len(ignored_paths))"
   ]
  },
  {
   "cell_type": "code",
   "execution_count": 13,
   "metadata": {},
   "outputs": [
    {
     "name": "stdout",
     "output_type": "stream",
     "text": [
      "3413\n"
     ]
    }
   ],
   "source": [
    "#paths that we still haven't done oompa loompa work on\n",
    "paths = paths_copy - ignored_paths\n",
    "print(len(paths))\n",
    "paths = list(paths)"
   ]
  },
  {
   "cell_type": "code",
   "execution_count": 24,
   "metadata": {},
   "outputs": [],
   "source": [
    "import ipywidgets as widgets\n",
    "from IPython.display import display, clear_output\n",
    "\n",
    "class Cycler:\n",
    "    \n",
    "    def __init__(self, paths):\n",
    "        self.paths = paths\n",
    "        self.handwritten = []\n",
    "        self.not_handwritten = []\n",
    "        self.yes_button = widgets.Button(description=\"Yes!\")\n",
    "        self.yes_button.on_click(self.on_yes_clicked)\n",
    "        self.no_button = widgets.Button(description=\"No\")\n",
    "        self.no_button.on_click(self.on_no_clicked)\n",
    "        self.generator = None\n",
    "        self.last_font = None\n",
    "    \n",
    "    def font_generator(self):\n",
    "        ''' This is a generator that always takes one font and \n",
    "        displays its writing style for a predetermined text.\n",
    "        '''\n",
    "        for idx, font_name in enumerate(self.paths):\n",
    "            try:\n",
    "                fnt = ImageFont.truetype(self.paths[idx], 100)\n",
    "                img = Image.new('RGB', (2500, 150), color = 'white')\n",
    "                d = ImageDraw.Draw(img)\n",
    "                d.text((10,10), \"The quick brown fox jumps over the lazy dog\",\n",
    "                       font=fnt, fill=(0, 0, 0))\n",
    "\n",
    "                plt.figure(figsize = (30,3))\n",
    "                plt.imshow(img)\n",
    "\n",
    "                temp = font_name.split(\"/\")[-1].split(\".\")[0]\n",
    "                #img.save(f'../data/example{temp}.png')\n",
    "                yield temp \n",
    "\n",
    "            except:\n",
    "                yield \"failed\"\n",
    "    \n",
    "    def initiate_generator(self):\n",
    "        self.generator = self.font_generator()\n",
    "        \n",
    "        print(\"The generator has been initiated! Click button to start.\")\n",
    "        \n",
    "        display(self.yes_button)\n",
    "        display(self.no_button)\n",
    "        return None\n",
    "    \n",
    "    def on_yes_clicked(self, b):\n",
    "        clear_output()\n",
    "        \n",
    "        if(self.last_font!=None):\n",
    "            self.handwritten.append(self.last_font)\n",
    "                \n",
    "        display(self.yes_button)\n",
    "        display(self.no_button)\n",
    "        self.last_font = next(self.generator)\n",
    "        \n",
    "        print(self.last_font)\n",
    "        print(cycler.handwritten)\n",
    "        return None\n",
    "    \n",
    "    def on_no_clicked(self, b):\n",
    "        clear_output()\n",
    "        \n",
    "        if(self.last_font!=None):\n",
    "            self.not_handwritten.append(self.last_font)\n",
    "        \n",
    "        display(self.yes_button)\n",
    "        display(self.no_button)\n",
    "        self.last_font = next(self.generator)\n",
    "        \n",
    "        print(self.last_font)\n",
    "        print(cycler.handwritten)\n",
    "        return None\n"
   ]
  },
  {
   "cell_type": "code",
   "execution_count": 25,
   "metadata": {},
   "outputs": [
    {
     "data": {
      "application/vnd.jupyter.widget-view+json": {
       "model_id": "b248b49e85b14eae921a44f0c95109b5",
       "version_major": 2,
       "version_minor": 0
      },
      "text/plain": [
       "Button(description='Yes!', style=ButtonStyle())"
      ]
     },
     "metadata": {},
     "output_type": "display_data"
    },
    {
     "data": {
      "application/vnd.jupyter.widget-view+json": {
       "model_id": "77e1778511a649aeb31055d6e72c0bcc",
       "version_major": 2,
       "version_minor": 0
      },
      "text/plain": [
       "Button(description='No', style=ButtonStyle())"
      ]
     },
     "metadata": {},
     "output_type": "display_data"
    },
    {
     "name": "stdout",
     "output_type": "stream",
     "text": [
      "Danv2\n",
      "['Heather Shibahn', 'Jake and Abby', 'Quincy Egbert', 'Simplesnails ver 4', 'Taras_Handwriting_2', 'SchoolFont', 'de Manu 1 NormalItalic', 'Better Signature Font', 'Chips & Salsa', 'i eat crayons', 'Aji_Hand', 'Font linda', 'Wilson Hand', 'the TOADFROG', 'Surrendered Heart', 'CRAE', 'Harrison', 'Sweetly Broken', 'MollyWolly', 'JoshCooper', 'Star King Personal Use', 'TalkingToTheMoon', 'CoralSkittles', 'Fowler', 'morena', 'Cattalleya Demo', 'Barthilda', 'thors thunderfont', 'lanara script-demo', 'SuperAwesome', 'Dani-Regular', 'LittleSparrow', 'BenBrousseau', 'I_NEED_HELP', 'Notera2Light_PERSONAL', 'Flyknit', 'Better Together Demo', 'JustBecause-PersonalUse', 'AngelinaHandwriting', 'Winchester', 'HyperPunchPink', 'Dhanikans Signature 2_dafont', 'fattypants', 'BreakfastAndChillDEMO', 'MarkerScript', 'CEF', 'BandsMakeHerDance', 'signarita_louisse_thin', 'NotDot', 'TamoroScript_PersonalUseOnly', 'Aida Garmo - Scrap Rounded', 'TingTong', 'DJB THE CHEERLEADER', 'Sixth Kristen Squirt', 'YourForever', 'Austie Bost In a Rush', 'XtreemMedium_PERSONAL_USE', 'leJasper', 'Doctor', 'MissKatLaurente', 'niscript_font', 'Hand of Diesel', 'Million Notes Demo', 'Mariposa', 'noah', 'BunnyCookies', 'Rocky Mountain Beauty', 'Andy', 'BritishRoyalty', 'Sandbox Melodrama', 'lemon squeezy ', 'Alexisv2', 'AnAlphaBetIsm-Medium', 'chalkboard', 'DJB Fresh Start', 'Dear Jane', 'SignMeTarnias', 'RadicalLlamas', 'morgan', 'Fish Sausages', 'DJB Elliephont', 'MariasHandwriting', 'Dos campos Blod', 'MRF quirky and authentic hand font demo', 'blackjacketboys-BoldItalic', 'urban_anxiety', 'Fancy Nancy', 'CaliforniaHarvest', 'malcolms_handwriting', 'Denishandwritting', '!PaulMaul-b', 'Puckipsy', 'Impalinger', 'KGSunnyAfternoon', 'ExtraZero', 'southpaw-webfont', 'Arnot Hand', 'newfrench', 'DJB Snarky Bess', 'Osulent Signature', 'Smudgie Crayon', 'Canidae Hand', 'SandersScribble', 'BSTTRIAL', 'mine', 'Harvey', 'Capella_Star', 'Prester John', 'Salamander', 'IceCream', 'Bestest Buddies', 'Allamanda (Demo)', 'Lamiar_Regular', 'kater potater', 'PosterScriptB', 'WonderfulPhonograph', 'Anxiety Management', 'this font is not a typeface', 'Mosaical', 'ClairesHand3', 'Yana', 'PlumePLUME', 'JJWEB-1', 'Julliscriptum-Reloaded', 'Mias_greetings', 'shannnn', 'MitchHand', 'Nevermind', 'Gabo4', 'Massali', 'deartheov2', 'Bollivia Rosilla Demo', 'kdizzle', 'cheyennei', 'School_Work', 'blackjacketboys-Regular', 'nee', 'The Fat Store', 'ErikaGolez', 'CindyyoBold', 'As_I_Lay_Dying', 'WashedPurple1', 'Handsdown', 'Shelby', 'parne', 'BrazillianBbq', 'GrapeDragon', 'charlie', 'WSPeskimo', 'Scrawl', 'Badhandwriting-1', 'handwriting', 'HelloAli', 'gorillaz_1', 'Rachel_Kate_Thick', 'MTF Evas Hand', 'Discobaby', 'DespainGang_Karmelle_37', 'Austin Worth', 'TX_Timesquare', 'CrabSalad', 'Internet Friends', '-Moody Spaghetty- DEMO', 'Antifont', 'BubbleWriting', 'HM_Jaymse', 'LCDaisy', 'KBWarmHerUp', 'TomasMassu', 'ShatteredPrint', 'jd_rossella', 'Denise__s_Manuscript', 'MiddleSchoolSucks1', 'Beasley_Light', 'DJB Me and My Shadow Dark', 'Circular Quay', 'Celine_Dion_Handwriting', 'Redstar', 'Egg', 'Blueberry Oatmeal Light', 'Mywriting', 'Anneke', 'PatiPe', 'cheyenneb', 'PeaMeaghanMessy', 'The Happy Giraffe Demo', 'Philing', 'JoseFernandez', 'DK Sheepman', 'kenzie', 'Shipwreck', 'Hipster', 'deadends', 'HongKim', 'SharkintheWaterBold', 'Blueberry Italic', 'Moolrys Demo', '2-4ef58', 'MTF Melissa', 'Yasnas_Hand', 'DazzlingDivas', 'ClairesHand', 'DJB CLyleRun', 'Sugar Lite', 'Camellia', 'FunkyJunk', 'JarofHearts', 'Red Velvet - Demo', 'thommy_handwrite', 'SquaredOff', 'PrestonsWriting', 'DK Early Morning Coffee', 'SydneysHand', 'bloom', 'VTC JoeleneHand Regular Italic', 'Marshmallows and Chocolate - TTF', 'yuimessyhand', '123and', 'Schreibii', 'swwell', 'Wild Ones Personal Use', 'TippyToes Regular', 'Yelly', 'Libertinas-co_font-FFP-', 'ConfettiFalling', 'Sister R', 'TrefayDemo', 'ShelbyShortandFat', 'Laura Hellaw Free', 'BARBARJA-1', 'Slainte Script Demo', 'WSCallMe', 'kokekoko', 'Skinnycookiesbold', 'Millweemanuscripting', 'Signoff', 'TakeItEasy', 'Glenns Hand', 'Instant Marker', 'The One Jenny Made', 'PWScript09', 'Handwriting', 'Coffee At Midnight Demo', 'LoveAtFirstSight', 'bluefires_sample', 'Oei', 'Bazgroly', 'As Cute As', 'strangeways_regular_sample', 'cheyenne', 'Shelter Me', 'Svampens Handwriting', 'Infinite', 'GaelleDEF', 'Rainbows&Lollipops', 'Living _ Dream', 'toilet_tag', 'Purplelace', 'Macady-Regular', 'rayairregular', 'Monkeybutt2', 'Sunny Winter', 'TairaK', 'Melapalooza', 'hisign', 'The Kool Font', 'Zerocalcare Double Trouble', 'danielbk', 'gurrrrl', 'IsiniScript', 'Easy Rider', 'Laurent_HW_by_oOo_n3o_oOo', 'fbsbltc', 'all hail julia', 'Signup', 'ApollosMum', 'DJB Geeks Who Wear Glasses', 'EffeNewVersion', 'OrdinaryArtichoke', 'Geovana', 'Note this', 'Sahara__s_handwriting__D_by_SaharaKnoblauch', 'PWMarker', 'Amazing_Bro', 'Generally Speaking', 'DazeBuna', 'KillahPikaPika', 'MINUS_CRE', 'MarketSaturday', 'Sundaes on Mondays', 'October Moon - TTF', 'Myrthe', 'PW Curvy regular script', 'wickhop-handwriting', 'RIFFC8310', 'Notera2Black_PERSONAL', 'LilSpider', 'ziaHW', 'LuckyMoney', 'DicksHandwriting', 'Lalithabai', 'pandastyle_fontlab', 'Macs Handwriting', 'SymcaPersonalUse', 'ChickenAndWaffles', 'Confessions WITHOUT ACCENTS (TrueType)', 'AnAlphaBetIsm', 'To The Point', 'Plumpy But Cute', 'RollingDices', 'Joanna__s_handwriting', 'Run Wild - Demo', 'KGRayofSunshine', 'Sugar Candy', 'Sugarpie', 'Nils', 'Qarolina', 'california', 'HelloBrady', 'Tickle Me Elmo', 'kensaavedra', 'JosschriftBold', 'Romtthing Free', 'loremipsum', 'DasBougie', 'HelloBradysDad', 'NipCens Handwriting Regular', 'Andrew', 'najwa', 'KBCampOut', 'Rhiner', 'WarmShowers', 'MyLuckyPenny', 'Hitam', 'DJB HeatherG', 'vanessalovesyou', 'Aquila Cs', 'Mix Scribble', 'WaitingfortheSunrise', 'Bad Handwriting 7', 'gaps-s-b', 'Mf Delicate Little Flower', 'tom script', 'MTF Saxy', 'JOfont', 'DansHandWriting', 'GammaJays', 'JakesHandwriting', 'amanda', 'Tallula', 'khand', 'kristenshandBold', 'Something Blue', 'RitviksHandwriting', 'LaureneScriptFont', 'Pastelyn', 'My_font_is_a_handwriting', 'Scribble Zack', 'girlnextdoor', '26-41cfe', 'annshandwriting', 'Delilah', 'Enduratize', 'Cream Donut', 'Puzzled_2', 'FirstFont', 'ManufacturedConsent', 'UpcycledMama', 'Barely_Handwritten', 'Rubynt Demo', 'So Long My Dear', 'Master Works - Demo', 'chabinho_2008_v2', 'dancingpam-demo', 'DK Uncle Oscar Italic', 'Messen', 'Aldine', 'imsogay', 'FGfontfull', 'Inkburro', 'skolateka bold', 'Aeland', 'Sodera Personal Use - Copy', 'Scraggletooth', 'PeaRachel', 'phandbv2', 'RainbowDashhh', 'Sweetly Broken SemiBold', 'Southpaw', 'MileyTwerk', 'mom', 'Fuzzy_Font', 'Paris By Daylight', 'Romance Font Script', 'festus!', 'LittleJack', 'Angelina Script', 'FranciscoDemo', 'Otella', 'danielbd', 'greymagus', 'FP_second_hand', 'Wonderfully_Wandering', 'SecondLyrics', 'MaiLinh', 'CleanSimpleDT', 'Mfooont', 'Bunny Ears', 'NancyYOFF', 'Rachelhand', 'Chicken_Scratch_V1', 'Yesterday Again', 'Chicken Scratch', 'Yes siree bob', 'Another Birdhouse Light', 'HUMAN', 'Hillary Script Demo', 'elizajane', 'Typing Dazedd', 'Black Sweet', 'Up in _ Air', 'The Heart Maze Demo', 'August free', 'PreppyGirlsHandwriting', 'Bilius', 'gesimp21', 'Arigato Handwritten', 'ForgetfulFriday', 'Bazgroly_b', 'Jannafont', 'Neatte', 'unrulyness', 'Viriginia Sky', 'Bikarosta-Script', 'Denne s Old Handwriting', 'SF Scribbled Sans SC', 'Swagmasta', 'kittyspoon', 'Glathen Girl', 'Brecelets-Demo', 'Alex Handwriting', 'MindAntiks', 'Morning Coffee', 'cinnamon cake', 'MichaelFont', 'Yellow Butterflies - TTF', 'MrDiamond', 'DJB Meet Me at My Locker', 'street_prescription', 'Lewishand', 'SIBERIAN PERSONAL USE', 'meryjane_v2', 'JustWriteDT', 'UglyKids-Thin', 'Abandonation', 'Lettregaelle', 'HotlineBling', 'Leah_Writes', 'ShellaheraScriptDemo', 'jd_stefania', 'megan hand', 'Husband of the Millennium', 'gaellefont403', 'wisteria', 'BLUE CHUCKS', 'HairProblems', 'AnnieUseYourTelescope', 'beshiny demo', 'InBetween', 'MuskyDawn', 'Mawns_Handwriting', 'BeautyDemo', 'Beatrix Signature', 'rushed', 'JessaPrint', 'First Grader', 'ContraryMary', 'AmazHand_First_Hard', 'DJB Me and My Shadow Light', 'Chat Moss', 'GaelleNumber5', 'KetamineNightmares_2', 'Signerica_Medium', 'QueenWaffle-DEMO', 'Guapos', 'HelloHotcakes', 'Font-On-A-Stick', 'PHR_Scrypt_II', 'dryoshiabibi', 'KGLegacyofVirtue', 'Robinhood', 'Zeyada', 'Skytree one', 'Everything Rhymes with Orange', 'Bluebery Oatmeal Bold', 'MyRandaRegular', 'MTF Donna', 'skolateka', 'scribb', 'ComeAround', 'Amber Shaie', 'Al dente', 'Laila', 'ayebaybay!⌐', 'sathas', 'finePoint', 'HaeunMedium', 'de Manu 2 Bold', 'PlainPrint', 'Another_', 'Susquehanna', 'JulesHand', 'typischvoornu2014', 'SammysScript', 'San Remo', 'natwooddraws-Regular', '!!! Handwritingg _3', 'Spring In My Step', 'IYSVintageDresses', 'Austie Bost Lifted Up', 'MurakamiRilapika', 'LittleBerry', 'Astralasia', 'ProfessorShroom', 'Love', 'PWNarrow', 'AudreysScribbles', 'DJB In Such a Rush', 'mickey_script', 'BUITENZO', 'ComicJans', 'Antique demo', 'Somebercum_Sans_Serif', 'OPM', 'KelissaThin', 'DK Cool Crayon', 'LikeLegit', 'DJB Rubia Tuesday', 'Bmerva', 'Thin Pencil Handwriting', 'Dliya-Regular', 'Slim Jim', 'Josef Xuereb s Friends - Regular', 'Hanoded Hand', 'Sandy-Sandy', 'akbar', 'Queen1', 'Vtks-Zamioyn4', 'fivecent', 'Capitol Chase', 'CrackedMyTooth', 'FluffleMuffleHand', 'Ten Million Fireflies', 'DoodlesOfFun', 'parla', 'LaCarmella', 'Mf Summertime', 'Ginjah Ninjah', 'Southofknowingwhy', 'Double N', 'Miriamsfont', 'AnnekeLight', 'amuninokia', 'Ships In The Night (Bold)', 'Ellianarelle s Path', 'Loose Typewriter', 'GorriSans', 'Motives', '1stHandwrittenRAB1DRABB1T', 'hand', 'PeacefulDay', 'Signerica_Thin', 'Lush', 'Jennifer Lynne', 'Austie Bost All My Love', 'The_Brown_Fox', 'Jean Jingga - TTF', 'Vtks Vacancy', 'Handeer', 'morning', 'ShadowsIntoLight', 'KH-Blackline-Script-Medium', 'Child_Serial_Killer', 'Daisies', 'HolidaysAreComing', 'Bad_handwriting', 'LittleFlyingSpiders', 'ZakirahsHand', 'Sams handwriting', 'isabellabold', 'Annoyed Teenager', 'UCU charles script', 'MBChickenScratch', 'PastelSwooshin', 'Dos campos', 'Shany', 'Atofont_Light', 'Aida Garmo - Aida', 'JambaJuicy', 'JLEE', 'DJB Room Mother', 'Alone Strand', 'something blue', 'PraduhhTheGreat', 'Miog', 'Super Sweet', 'Everything You Want - TTF', 'Before the sun rises', 'Jehzlau Concepts', 'shailettering', 'sherlox', 'Noturnal Hand', 'TurtleWishes', 'TeaPartyIdeas', 'MintGreenlaces', 'TanpaKata-Regular', 'kvant-18', 'AJPutMeFirst', 'Rosse DEMO', 'YelloveDEMO', 'Menulist Beauty - PERSONAL USE', 'KatherinesHand', 'Brianne_s_hand', 'BrickbyBoringBrick', 'morado sharp', 'Kid Marker', 'BoardMarker', 'My Childish Font', 'jkasperville', 'HelloBoyfriend', 'MomsFontYOFF', 'Extra Fruity', 'ascension', 'Sarcastica', 'SaturdayChampagneDemo-Regular', 'GeeKnee', 'SimplyLin', 'MWCurly', 'JEMBOhands', 'BlakemanHand-Regular', 'Vineyard Magazines', 'Millennial Solstice', 'Jessica and Alex', 'good', 'Lefty Dave']\n"
     ]
    },
    {
     "data": {
      "image/png": "[encoded data removed]",
      "text/plain": [
       "<Figure size 2160x216 with 1 Axes>"
      ]
     },
     "metadata": {},
     "output_type": "display_data"
    }
   ],
   "source": [
    "cycler = Cycler(paths)\n",
    "cycler.initiate_generator()\n"
   ]
  },
  {
   "cell_type": "code",
   "execution_count": 17,
   "metadata": {},
   "outputs": [],
   "source": [
    "import pickle\n",
    "index_classified = len(cycler.handwritten) + len(cycler.not_handwritten) + index\n",
    "pickle.dump(cycler.handwritten,open( f\"../data/fonts/handwritten_{index}_to_{index_classified}.p\", \"wb\" ))"
   ]
  },
  {
   "cell_type": "code",
   "execution_count": 11,
   "metadata": {},
   "outputs": [],
   "source": [
    "def font_generator(paths=paths):\n",
    "    ''' This is a generator that always takes one font and \n",
    "    displays its writing style for a predetermined text.\n",
    "    '''\n",
    "    for idx, font_name in enumerate(paths):\n",
    "\n",
    "        temp = font_name.split(\"/\")[-1].split(\".\")[0]\n",
    "        yield temp "
   ]
  },
  {
   "cell_type": "code",
   "execution_count": 12,
   "metadata": {},
   "outputs": [],
   "source": [
    "something = list(font_generator(paths))"
   ]
  },
  {
   "cell_type": "code",
   "execution_count": 13,
   "metadata": {},
   "outputs": [
    {
     "name": "stdout",
     "output_type": "stream",
     "text": [
      "0\n",
      "10\n"
     ]
    }
   ],
   "source": [
    "print(something.index('You Me And Coffee'))\n",
    "print(len(cycler.handwritten))"
   ]
  },
  {
   "cell_type": "code",
   "execution_count": 26,
   "metadata": {},
   "outputs": [],
   "source": [
    "liz_selected_paths = cycler.handwritten"
   ]
  },
  {
   "cell_type": "code",
   "execution_count": 28,
   "metadata": {},
   "outputs": [
    {
     "data": {
      "text/plain": [
       "'Lefty Dave'"
      ]
     },
     "execution_count": 28,
     "metadata": {},
     "output_type": "execute_result"
    }
   ],
   "source": [
    "liz_selected_paths[-1]"
   ]
  },
  {
   "cell_type": "code",
   "execution_count": 29,
   "metadata": {},
   "outputs": [],
   "source": [
    "pickle.dump(cycler.handwritten,open( f\"../data/fonts/handwritten_from_liz.p\", \"wb\" ))"
   ]
  },
  {
   "cell_type": "code",
   "execution_count": 30,
   "metadata": {},
   "outputs": [
    {
     "data": {
      "text/plain": [
       "645"
      ]
     },
     "execution_count": 30,
     "metadata": {},
     "output_type": "execute_result"
    }
   ],
   "source": [
    "len(liz_selected_paths)"
   ]
  },
  {
   "cell_type": "code",
   "execution_count": 31,
   "metadata": {},
   "outputs": [],
   "source": [
    "liz_not_selected_paths = cycler.not_handwritten"
   ]
  },
  {
   "cell_type": "code",
   "execution_count": 32,
   "metadata": {},
   "outputs": [],
   "source": [
    "pickle.dump(cycler.not_handwritten,open( f\"../data/fonts/rejections_from_liz.p\", \"wb\" ))"
   ]
  },
  {
   "cell_type": "code",
   "execution_count": null,
   "metadata": {},
   "outputs": [],
   "source": []
  }
 ],
 "metadata": {
  "kernelspec": {
   "display_name": "Python 3",
   "language": "python",
   "name": "python3"
  },
  "language_info": {
   "codemirror_mode": {
    "name": "ipython",
    "version": 3
   },
   "file_extension": ".py",
   "mimetype": "text/x-python",
   "name": "python",
   "nbconvert_exporter": "python",
   "pygments_lexer": "ipython3",
   "version": "3.6.5"
  }
 },
 "nbformat": 4,
 "nbformat_minor": 2
}
