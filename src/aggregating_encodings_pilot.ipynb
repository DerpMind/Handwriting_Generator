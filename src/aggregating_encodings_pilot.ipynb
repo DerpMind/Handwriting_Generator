{
 "cells": [
  {
   "cell_type": "code",
   "execution_count": 1,
   "metadata": {},
   "outputs": [],
   "source": [
    "import pickle\n",
    "import glob2 as glob"
   ]
  },
  {
   "cell_type": "code",
   "execution_count": 2,
   "metadata": {},
   "outputs": [],
   "source": [
    "paths = glob.glob(\"../models/encodings/*p\")"
   ]
  },
  {
   "cell_type": "code",
   "execution_count": 3,
   "metadata": {},
   "outputs": [],
   "source": [
    "path = paths[0]\n",
    "encoding = pickle.load(open(path,mode=\"rb\"))"
   ]
  },
  {
   "cell_type": "code",
   "execution_count": 4,
   "metadata": {},
   "outputs": [
    {
     "name": "stdout",
     "output_type": "stream",
     "text": [
      "(369, 10)\n",
      "(368, 10)\n",
      "(367, 10)\n",
      "(366, 10)\n",
      "(367, 10)\n",
      "(367, 10)\n",
      "(367, 10)\n",
      "(367, 10)\n",
      "(367, 10)\n",
      "(367, 10)\n",
      "(367, 10)\n",
      "(367, 10)\n",
      "(367, 10)\n",
      "(369, 10)\n",
      "(367, 10)\n",
      "(366, 10)\n",
      "(366, 10)\n",
      "(369, 10)\n",
      "(367, 10)\n",
      "(367, 10)\n",
      "(367, 10)\n",
      "(369, 10)\n",
      "(367, 10)\n",
      "(367, 10)\n",
      "(369, 10)\n",
      "(369, 10)\n",
      "(369, 10)\n",
      "(367, 10)\n",
      "(369, 10)\n",
      "(369, 10)\n",
      "(367, 10)\n",
      "(367, 10)\n",
      "(369, 10)\n",
      "(366, 10)\n",
      "(367, 10)\n",
      "(368, 10)\n",
      "(367, 10)\n"
     ]
    }
   ],
   "source": [
    "for path in paths:\n",
    "    print(pickle.load(open(path,mode=\"rb\")).shape)"
   ]
  },
  {
   "cell_type": "code",
   "execution_count": 6,
   "metadata": {},
   "outputs": [],
   "source": [
    "import os.path\n",
    "letters = ['A', 'B', 'C', 'D', 'E', 'F', 'G','H', 'I', 'J', 'K', 'L', 'M', 'N', 'O', 'P', 'Q', 'R', \\\n",
    "           'S', 'T', 'U', 'V', 'W', 'X', 'Y', 'Z', 'a', 'b', 'd', 'e', 'f', 'g', 'h', 'n', 'q', 'r',\\\n",
    "           't']\n",
    "for char in letters:\n",
    "    glob.glob(\"\")"
   ]
  },
  {
   "cell_type": "code",
   "execution_count": 7,
   "metadata": {},
   "outputs": [
    {
     "name": "stdout",
     "output_type": "stream",
     "text": [
      "/home/lorenz/DSR/Diktatkorrektur/Handwriting_Generator/src\r\n"
     ]
    }
   ],
   "source": [
    "!pwd"
   ]
  },
  {
   "cell_type": "code",
   "execution_count": 10,
   "metadata": {},
   "outputs": [
    {
     "name": "stdout",
     "output_type": "stream",
     "text": [
      "998\n",
      "998\n",
      "998\n",
      "998\n",
      "998\n",
      "998\n",
      "998\n",
      "998\n",
      "998\n",
      "998\n",
      "998\n",
      "998\n",
      "998\n",
      "998\n",
      "998\n",
      "998\n",
      "998\n",
      "998\n",
      "998\n",
      "998\n",
      "998\n",
      "998\n",
      "998\n",
      "998\n",
      "998\n",
      "998\n",
      "998\n",
      "998\n",
      "998\n",
      "998\n",
      "998\n",
      "998\n",
      "998\n",
      "998\n",
      "998\n",
      "998\n",
      "998\n"
     ]
    }
   ],
   "source": [
    "for letter in letters:\n",
    "    print(len(glob.glob(f\"../data/{letter}/*\")))"
   ]
  },
  {
   "cell_type": "code",
   "execution_count": 34,
   "metadata": {},
   "outputs": [
    {
     "data": {
      "text/plain": [
       "'A'"
      ]
     },
     "execution_count": 34,
     "metadata": {},
     "output_type": "execute_result"
    }
   ],
   "source": [
    "letters[0]"
   ]
  },
  {
   "cell_type": "code",
   "execution_count": null,
   "metadata": {},
   "outputs": [],
   "source": []
  }
 ],
 "metadata": {
  "kernelspec": {
   "display_name": "Python 3",
   "language": "python",
   "name": "python3"
  },
  "language_info": {
   "codemirror_mode": {
    "name": "ipython",
    "version": 3
   },
   "file_extension": ".py",
   "mimetype": "text/x-python",
   "name": "python",
   "nbconvert_exporter": "python",
   "pygments_lexer": "ipython3",
   "version": "3.6.6"
  }
 },
 "nbformat": 4,
 "nbformat_minor": 2
}
