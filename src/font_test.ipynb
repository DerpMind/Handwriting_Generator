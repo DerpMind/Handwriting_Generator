{
 "cells": [
  {
   "cell_type": "code",
   "execution_count": 1,
   "metadata": {},
   "outputs": [
    {
     "name": "stdout",
     "output_type": "stream",
     "text": [
      "/home/mathlizard/Handwriting_Generator/src\r\n"
     ]
    }
   ],
   "source": [
    "!pwd"
   ]
  },
  {
   "cell_type": "code",
   "execution_count": 2,
   "metadata": {},
   "outputs": [
    {
     "name": "stdout",
     "output_type": "stream",
     "text": [
      "['../data/fonts/ADAMSFONT.ttf', '../data/fonts/OMGWriteLikeWilliam.ttf', '../data/fonts/fourHand_TRIAL.ttf', '../data/fonts/Glenns Hand.ttf', '../data/fonts/tough_dog.ttf', '../data/fonts/Vintlys_Hand.ttf', '../data/fonts/Nebbulla.ttf', '../data/fonts/seminggu_di_kota_cianjur.ttf', '../data/fonts/Barely_Handwritten.ttf', '../data/fonts/Handwriting.ttf']\n"
     ]
    }
   ],
   "source": [
    "import glob2 as glob\n",
    "\n",
    "paths = glob.glob('../data/fonts/*.ttf')\n",
    "print(paths[:10])"
   ]
  },
  {
   "cell_type": "code",
   "execution_count": 3,
   "metadata": {},
   "outputs": [],
   "source": [
    "from PIL import Image, ImageDraw, ImageFont\n",
    "import matplotlib.pyplot as plt\n",
    "\n",
    "def font_generator(paths=paths):\n",
    "    ''' This is a generator that always takes one font and \n",
    "    displays its writing style for a predetermined text.\n",
    "    '''\n",
    "    for idx, font_name in enumerate(paths):\n",
    "        try:\n",
    "            fnt = ImageFont.truetype(paths[idx], 100)\n",
    "            img = Image.new('RGB', (2500, 150), color = 'white')\n",
    "            d = ImageDraw.Draw(img)\n",
    "            d.text((10,10), \"The quick brown fox jumps over the lazy dog\",\n",
    "                   font=fnt, fill=(0, 0, 0))\n",
    "            \n",
    "            plt.figure(figsize = (30,3))\n",
    "            plt.imshow(img)\n",
    "            \n",
    "            temp = font_name.split(\"/\")[-1].split(\".\")[0]\n",
    "            #img.save(f'../data/example{temp}.png')\n",
    "            \n",
    "            yield temp \n",
    "\n",
    "        except:\n",
    "            yield \"failed\"\n",
    "\n",
    "                 "
   ]
  },
  {
   "cell_type": "code",
   "execution_count": 4,
   "metadata": {},
   "outputs": [],
   "source": [
    "fg = font_generator(paths)"
   ]
  },
  {
   "cell_type": "code",
   "execution_count": 5,
   "metadata": {},
   "outputs": [],
   "source": [
    "import ipywidgets as widgets\n",
    "from IPython.display import display, clear_output\n",
    "\n",
    "class Cycler:\n",
    "    \n",
    "    def __init__(self, paths):\n",
    "        self.paths = paths\n",
    "        self.handwritten = []\n",
    "        self.yes_button = widgets.Button(description=\"Yes!\")\n",
    "        self.yes_button.on_click(self.on_yes_clicked)\n",
    "        self.no_button = widgets.Button(description=\"No\")\n",
    "        self.no_button.on_click(self.on_no_clicked)\n",
    "        self.generator = None\n",
    "    \n",
    "    def font_generator(self):\n",
    "        ''' This is a generator that always takes one font and \n",
    "        displays its writing style for a predetermined text.\n",
    "        '''\n",
    "        for idx, font_name in enumerate(self.paths):\n",
    "            try:\n",
    "                fnt = ImageFont.truetype(self.paths[idx], 100)\n",
    "                img = Image.new('RGB', (2500, 150), color = 'white')\n",
    "                d = ImageDraw.Draw(img)\n",
    "                d.text((10,10), \"The quick brown fox jumps over the lazy dog\",\n",
    "                       font=fnt, fill=(0, 0, 0))\n",
    "\n",
    "                plt.figure(figsize = (30,3))\n",
    "                plt.imshow(img)\n",
    "\n",
    "                temp = font_name.split(\"/\")[-1].split(\".\")[0]\n",
    "                #img.save(f'../data/example{temp}.png')\n",
    "                yield temp \n",
    "\n",
    "            except:\n",
    "                yield \"failed\"\n",
    "    \n",
    "    def initiate_generator(self):\n",
    "        self.generator = self.font_generator()\n",
    "        \n",
    "        print(\"The generator has been initiated! Click 'No' to start.\")\n",
    "        \n",
    "        display(self.yes_button)\n",
    "        display(self.no_button)\n",
    "        return 0\n",
    "    \n",
    "    def on_yes_clicked(self, b):\n",
    "        clear_output()\n",
    "        \n",
    "        font_name = next(self.generator)\n",
    "        self.handwritten.append(font_name)\n",
    "                \n",
    "        display(self.yes_button)\n",
    "        display(self.no_button)\n",
    "        \n",
    "        print(font_name)\n",
    "        print(cycler.handwritten)\n",
    "        return None\n",
    "    \n",
    "    def on_no_clicked(self, b):\n",
    "        clear_output()\n",
    "        \n",
    "        display(self.yes_button)\n",
    "        display(self.no_button)\n",
    "        \n",
    "        print(next(self.generator))\n",
    "        print(cycler.handwritten)\n",
    "        return None\n"
   ]
  },
  {
   "cell_type": "code",
   "execution_count": 6,
   "metadata": {},
   "outputs": [
    {
     "name": "stdout",
     "output_type": "stream",
     "text": [
      "The generator has been initiated! Click 'No' to start.\n"
     ]
    },
    {
     "data": {
      "application/vnd.jupyter.widget-view+json": {
       "model_id": "1fedb510f3c7477b919424adff5fd29e",
       "version_major": 2,
       "version_minor": 0
      },
      "text/plain": [
       "Button(description='Yes!', style=ButtonStyle())"
      ]
     },
     "metadata": {},
     "output_type": "display_data"
    },
    {
     "data": {
      "application/vnd.jupyter.widget-view+json": {
       "model_id": "8a4d5f6175ae416bbfe79b4f6fa0ef68",
       "version_major": 2,
       "version_minor": 0
      },
      "text/plain": [
       "Button(description='No', style=ButtonStyle())"
      ]
     },
     "metadata": {},
     "output_type": "display_data"
    },
    {
     "data": {
      "text/plain": [
       "0"
      ]
     },
     "execution_count": 6,
     "metadata": {},
     "output_type": "execute_result"
    }
   ],
   "source": [
    "cycler = Cycler(paths)\n",
    "cycler.initiate_generator()\n"
   ]
  },
  {
   "cell_type": "code",
   "execution_count": 7,
   "metadata": {},
   "outputs": [],
   "source": [
    "import pickle"
   ]
  },
  {
   "cell_type": "code",
   "execution_count": 8,
   "metadata": {},
   "outputs": [],
   "source": [
    "hw_1 = pickle.load(open('../data/fonts/handwritten_1_to_738.p', 'rb'))"
   ]
  },
  {
   "cell_type": "code",
   "execution_count": 9,
   "metadata": {},
   "outputs": [],
   "source": [
    "hw_2 = pickle.load(open('../data/fonts/handwritten_738_to_757.p','rb'))"
   ]
  },
  {
   "cell_type": "code",
   "execution_count": 10,
   "metadata": {},
   "outputs": [
    {
     "data": {
      "text/plain": [
       "363"
      ]
     },
     "execution_count": 10,
     "metadata": {},
     "output_type": "execute_result"
    }
   ],
   "source": [
    "len(hw_1)"
   ]
  },
  {
   "cell_type": "code",
   "execution_count": 11,
   "metadata": {},
   "outputs": [
    {
     "data": {
      "text/plain": [
       "10"
      ]
     },
     "execution_count": 11,
     "metadata": {},
     "output_type": "execute_result"
    }
   ],
   "source": [
    "len(hw_2)"
   ]
  },
  {
   "cell_type": "code",
   "execution_count": 40,
   "metadata": {},
   "outputs": [],
   "source": [
    "#import pickle\n",
    "#pickle.dump(cycler.handwritten,open( \"../data/fonts/handwritten_v1.p\", \"wb\" ))"
   ]
  },
  {
   "cell_type": "code",
   "execution_count": 28,
   "metadata": {},
   "outputs": [],
   "source": [
    "def font_generator(paths=paths):\n",
    "    ''' This is a generator that always takes one font and \n",
    "    displays its writing style for a predetermined text.\n",
    "    '''\n",
    "    for idx, font_name in enumerate(paths):\n",
    "        try:\n",
    "            #fnt = ImageFont.truetype(paths[idx], 100)\n",
    "            #img = Image.new('RGB', (2500, 150), color = 'white')\n",
    "            #d = ImageDraw.Draw(img)\n",
    "            #d.text((10,10), \"The quick brown fox jumps over the lazy dog\",\n",
    "            #       font=fnt, fill=(0, 0, 0)\n",
    "\n",
    "            #plt.figure(figsize = (30,3))\n",
    "            #plt.imshow(img)\n",
    "\n",
    "            temp = font_name.split(\"/\")[-1].split(\".\")[0]\n",
    "            #img.save(f'../data/example{temp}.png')\n",
    "            yield temp \n",
    "\n",
    "        except:\n",
    "            yield \"failed\""
   ]
  },
  {
   "cell_type": "code",
   "execution_count": 29,
   "metadata": {},
   "outputs": [],
   "source": [
    "something = list(font_generator(paths))"
   ]
  },
  {
   "cell_type": "code",
   "execution_count": 30,
   "metadata": {},
   "outputs": [
    {
     "data": {
      "text/plain": [
       "['ADAMSFONT',\n",
       " 'OMGWriteLikeWilliam',\n",
       " 'fourHand_TRIAL',\n",
       " 'Glenns Hand',\n",
       " 'tough_dog',\n",
       " 'Vintlys_Hand',\n",
       " 'Nebbulla',\n",
       " 'seminggu_di_kota_cianjur',\n",
       " 'Barely_Handwritten',\n",
       " 'Handwriting']"
      ]
     },
     "execution_count": 30,
     "metadata": {},
     "output_type": "execute_result"
    }
   ],
   "source": [
    "something[:10]"
   ]
  },
  {
   "cell_type": "code",
   "execution_count": 50,
   "metadata": {},
   "outputs": [
    {
     "name": "stdout",
     "output_type": "stream",
     "text": [
      "738\n",
      "362\n"
     ]
    }
   ],
   "source": [
    "print(something.index('You Me And Coffee'))\n",
    "print(len(cycler.handwritten))"
   ]
  },
  {
   "cell_type": "code",
   "execution_count": 32,
   "metadata": {},
   "outputs": [],
   "source": [
    "fonts = []\n",
    "for font_name in paths:\n",
    "    temp = font_name.split(\"/\")[-1].split(\".\")[0]\n",
    "    fonts.append(temp)"
   ]
  },
  {
   "cell_type": "code",
   "execution_count": 33,
   "metadata": {},
   "outputs": [
    {
     "data": {
      "text/plain": [
       "2095"
      ]
     },
     "execution_count": 33,
     "metadata": {},
     "output_type": "execute_result"
    }
   ],
   "source": [
    "fonts.index('You Me And Coffee')"
   ]
  },
  {
   "cell_type": "code",
   "execution_count": 34,
   "metadata": {},
   "outputs": [
    {
     "data": {
      "text/plain": [
       "2095"
      ]
     },
     "execution_count": 34,
     "metadata": {},
     "output_type": "execute_result"
    }
   ],
   "source": [
    "something.index('You Me And Coffee')"
   ]
  },
  {
   "cell_type": "code",
   "execution_count": null,
   "metadata": {},
   "outputs": [],
   "source": []
  },
  {
   "cell_type": "code",
   "execution_count": null,
   "metadata": {},
   "outputs": [],
   "source": []
  },
  {
   "cell_type": "code",
   "execution_count": null,
   "metadata": {},
   "outputs": [],
   "source": []
  }
 ],
 "metadata": {
  "kernelspec": {
   "display_name": "Python 3",
   "language": "python",
   "name": "python3"
  },
  "language_info": {
   "codemirror_mode": {
    "name": "ipython",
    "version": 3
   },
   "file_extension": ".py",
   "mimetype": "text/x-python",
   "name": "python",
   "nbconvert_exporter": "python",
   "pygments_lexer": "ipython3",
   "version": "3.6.5"
  }
 },
 "nbformat": 4,
 "nbformat_minor": 2
}
