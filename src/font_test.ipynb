{
 "cells": [
  {
   "cell_type": "code",
   "execution_count": null,
   "metadata": {},
   "outputs": [],
   "source": [
    "!pwd"
   ]
  },
  {
   "cell_type": "code",
   "execution_count": 1,
   "metadata": {},
   "outputs": [
    {
     "name": "stdout",
     "output_type": "stream",
     "text": [
      "['../data/fonts/MBurnette.ttf', '../data/fonts/MattsHandwriting.ttf', '../data/fonts/ANDi-Regular.ttf', '../data/fonts/Megaink.ttf', '../data/fonts/Aspargo.ttf', '../data/fonts/Higher.ttf', '../data/fonts/michellehandwritting.ttf', '../data/fonts/Sareeka-demo.ttf', '../data/fonts/stiletto skinny.vfb.ttf', '../data/fonts/123Marker.ttf']\n"
     ]
    }
   ],
   "source": [
    "import glob2 as glob\n",
    "\n",
    "paths = glob.glob('../data/fonts/*.ttf')\n",
    "print(paths[:10])"
   ]
  },
  {
   "cell_type": "code",
   "execution_count": 2,
   "metadata": {},
   "outputs": [],
   "source": [
    "from PIL import Image, ImageDraw, ImageFont\n",
    "import matplotlib.pyplot as plt\n",
    "\n",
    "def font_generator(paths=paths):\n",
    "    ''' This is a generator that always takes one font and \n",
    "    displays its writing style for a predetermined text.\n",
    "    '''\n",
    "    for idx, font_name in enumerate(paths):\n",
    "        try:\n",
    "            fnt = ImageFont.truetype(paths[idx], 100)\n",
    "            img = Image.new('RGB', (2500, 150), color = 'white')\n",
    "            d = ImageDraw.Draw(img)\n",
    "            d.text((10,10), \"The quick brown fox jumps over the lazy dog\",\n",
    "                   font=fnt, fill=(0, 0, 0))\n",
    "            \n",
    "            plt.figure(figsize = (30,3))\n",
    "            plt.imshow(img)\n",
    "            \n",
    "            temp = font_name.split(\"/\")[-1].split(\".\")[0]\n",
    "            #img.save(f'../data/example{temp}.png')\n",
    "            \n",
    "            yield temp \n",
    "\n",
    "        except:\n",
    "            yield \"failed\"\n",
    "\n",
    "                 "
   ]
  },
  {
   "cell_type": "code",
   "execution_count": 21,
   "metadata": {},
   "outputs": [],
   "source": [
    "fg = font_generator(paths)"
   ]
  },
  {
   "cell_type": "code",
   "execution_count": 34,
   "metadata": {},
   "outputs": [],
   "source": [
    "import ipywidgets as widgets\n",
    "from IPython.display import display, clear_output\n",
    "\n",
    "class Cycler:\n",
    "    \n",
    "    def __init__(self, paths):\n",
    "        self.paths = paths\n",
    "        self.handwritten = []\n",
    "        self.yes_button = widgets.Button(description=\"Yes!\")\n",
    "        self.yes_button.on_click(self.on_yes_clicked)\n",
    "        self.no_button = widgets.Button(description=\"No\")\n",
    "        self.no_button.on_click(self.on_no_clicked)\n",
    "        self.generator = None\n",
    "    \n",
    "    def font_generator(self):\n",
    "        ''' This is a generator that always takes one font and \n",
    "        displays its writing style for a predetermined text.\n",
    "        '''\n",
    "        for idx, font_name in enumerate(self.paths):\n",
    "            try:\n",
    "                fnt = ImageFont.truetype(self.paths[idx], 100)\n",
    "                img = Image.new('RGB', (2500, 150), color = 'white')\n",
    "                d = ImageDraw.Draw(img)\n",
    "                d.text((10,10), \"The quick brown fox jumps over the lazy dog\",\n",
    "                       font=fnt, fill=(0, 0, 0))\n",
    "\n",
    "                plt.figure(figsize = (30,3))\n",
    "                plt.imshow(img)\n",
    "\n",
    "                temp = font_name.split(\"/\")[-1].split(\".\")[0]\n",
    "                #img.save(f'../data/example{temp}.png')\n",
    "                yield temp \n",
    "\n",
    "            except:\n",
    "                yield \"failed\"\n",
    "    \n",
    "    def initiate_generator(self):\n",
    "        self.generator = self.font_generator()\n",
    "        \n",
    "        print(\"The generator has been initiated! Click 'No' to start.\")\n",
    "        \n",
    "        display(self.yes_button)\n",
    "        display(self.no_button)\n",
    "        return 0\n",
    "    \n",
    "    def on_yes_clicked(self, b):\n",
    "        clear_output()\n",
    "        \n",
    "        font_name = next(self.generator)\n",
    "        self.handwritten.append(font_name)\n",
    "                \n",
    "        display(self.yes_button)\n",
    "        display(self.no_button)\n",
    "        \n",
    "        print(font_name)\n",
    "        print(cycler.handwritten)\n",
    "        return None\n",
    "    \n",
    "    def on_no_clicked(self, b):\n",
    "        clear_output()\n",
    "        \n",
    "        display(self.yes_button)\n",
    "        display(self.no_button)\n",
    "        \n",
    "        print(next(self.generator))\n",
    "        print(cycler.handwritten)\n",
    "        return None\n"
   ]
  },
  {
   "cell_type": "code",
   "execution_count": 35,
   "metadata": {},
   "outputs": [
    {
     "data": {
      "application/vnd.jupyter.widget-view+json": {
       "model_id": "27ca1c58432a499095a2a121b635952f",
       "version_major": 2,
       "version_minor": 0
      },
      "text/plain": [
       "Button(description='Yes!', style=ButtonStyle())"
      ]
     },
     "metadata": {},
     "output_type": "display_data"
    },
    {
     "data": {
      "application/vnd.jupyter.widget-view+json": {
       "model_id": "c619f4d872c5444987494b158a5d9e99",
       "version_major": 2,
       "version_minor": 0
      },
      "text/plain": [
       "Button(description='No', style=ButtonStyle())"
      ]
     },
     "metadata": {},
     "output_type": "display_data"
    },
    {
     "name": "stdout",
     "output_type": "stream",
     "text": [
      "You Me And Coffee\n",
      "['ANDi-Regular', 'Aspargo', 'Higher', 'Sareeka-demo', 'stiletto skinny', 'KBReallyDnealie', 'DjuiceWriting', 'Quirking', 'Rose Colored', 'inkworms', 'dali____', 'Scoder Refined', 'TheHundredClub', 'Paper Plane Hollow', 'BlessingsthroughRaindrops', 'LauraClaire', 'RoughNotesSample', 'CrystalBluePersuasion', 'COFFE & MILK', 'handzpyd-demo', 'Putumayo', 'velocity_demo', 'Where the Lonely Ones Roam - TTF', 'Darbog gradient bold italic', 'Sweet Getaway DEMO', 'BreNoelle', 'Dylan', 'Pyjama Party', 'Gabby', 'KGEmpireofDirt', 'DaintyDaisies', 'PlumePLUME', 'Singularity', 'handwriting_', 'TheJacklyn', 'Scribble_Hand', 'Elo Hand', 'Notera2Medium_PERSONAL', 'MattSerif', 'GreatSpringtime', 'DaveyHand', 'Hartford Demo', 'Joshe Original', 'BehindtheMirror', 'dill pickles', 'Darbog outline bold italic', 'WorkThatWednesday', 'ExpletiveDeleted', 'ShookenDemo', 'HandsOn-Regular', 'Enchanted Castle', 'Morning Coffee', 'Flamingo 54', 'Lalex', 'morado felt', 'skinish', 'frightnight', 'DJB Sissy', 'AmazHand_First_Alt', 'Serenity Demo', 'MulticoloredButterflies', 'lollipop', 'Conrad-Regular', 'Alphabet Soup', 'Easy November', 'MindAntiks', 'MaxsDreamland', 'lieveletters', 'Peax Handwritingbold', 'Moon Flower Bold', 'Gaelle203Font', 'LullaBelle', 'Julialicious', 'Fairyland Demo Font', 'SF Scribbled Sans SC Bold', 'LifesTooFast', 'Stinkerpotomus', 'Learn To Spell', 'A Glitch In Time', 'Happy Monday', 'cuteness', 'daddysgirl', 'PRIMAHANDWRITE', 'Simply Glamorous', 'IndigoRacers', 'mightyroping', 'dearJoe 6 TRIAL', 'ForefarmersDEMO', 'CollectionOfJays', 'Dorathy - Personal Use Only', 'Sweet Home Oklahoma', 'ARACNE_regular_italic', 'DJB Heart Attack 2', 'my derp handwriting', 'inkpen_scribble', 'SunnySpring', 'OrangeCounty', 'Danger Zone', 'F_ck Beans Bold Italic', 'SNTS MouseLaak TP', 'Diamond Girl Skinny', 'ArminsFrozenPeas', 'Foxes In Love', 'OhStormy', 'Designer-Notes', 'Easy Going - Demo', 'Hesster Mofet CLEAN_TRIAL', 'StateOfDreaming', 'Mossy', 'Blueberry Oatmeal Regular', 'Joshua', 'jd_tyr', 'Paresh', 'Simple Cream', 'elle ami', 'SpringtimeV2', 'What', 'PreppyGirlsHandwriting', 'HARDWORK', 'TreasureFingers', 'PicasProperHand', 'ChildsWish', 'Single Stroke Inks', 'factory worker', 'GelPen', 'Moonshine', 'coffeyto', 'MTF Hooty Coo', 'Easy Speech_free', 'Dinosaur', 'MTF Lexi', 'OrenScript', 'Aida Garmo - Small Size', 'RichChickSauce', 'OPM', 'adam handwriting test', 'SneakerHunting', 'StuntinOnYou', 'LESLIE', 'BEDSA', 'Wolframia', 'our lil secret forever', 'Passing Notes', 'Soljik-Dambaek', 'Mf Quirky & Messy', 'cheeseusauceu', 'Annabelle', 'ShimesOne_PERSONAL', 'philosophy', 'Begorra', 'HoneyScript-SemiBold', 'Lauantaiaamu 0725', 'Vtks Rash', 'Budhayanti script', '1stHandwrittenRAB1DRABB1T', 'debhandwriting', 'Hello Bunda Demo', 'SugarHoneyIcedTea', 'Lennon', 'charlie', 'TurtleWishes', 'CUERNOMUERTO', 'BeachScript-Regular', 'LilithScript', 'dressinup', 'SaturdayLove', 'GoodNeighbor', 'Jenny Hand', 'dinojp__', 'Guys My Age - TTF', 'asdf', 'paradise', 'estirada', 'MagicPens', 'Sweet Cupcake alt demo', 'John Snow', 'Crush', 'Burston', 'Dancing in the Beat', 'SuperGirlfriend', 'Lindberg_hand_and_symbols', 'LUNAKRONIKLIGHT', 'Biloxi Thin', 'CandyDelish', 'AniLazyDay', 'stripedsunshine', 'MySkinnyJeans', 'WHATEVER_by_Luciana_Morin', 'Guayaquil1800', 'GROmagnon', 'iwfxv02', 'Gaelleingsletter', 'Maya_s_Script', 'quaderno_bianco _bold', 'Springtime Blues', 'A Gentle Touch', 'LadyInYellow', 'ARACNE-ULTRA-CONDENSED_regular_italic', 'JuliaVintage', 'kyoritsu dengyo', 'HelloCake', 'BeautifulEveryTime', 'Bold Curse', 'phandv2', 'Sierra Nevada Road SC', 'DJB BAILEY', 'madman', 'Creepers', 'NipCens Handwriting CondOut', 'AbigailScriptDemo-Regular', 'Hand of Joe', 'ChinalBlack_PERSONAL_USE', 'adhie', 'picablo fentier', '20 cents marker', 'RubenKoops', 'ItsNotMonday', 'Quickly', 'something blue light', 'alfa deta demo', 'Hyperness', 'PWFine', 'EkologieHand_PERSONAL_USE_ONLY', 'DJB This is Me 2', 'SaraScribbles', 'Taylor Swift Handwriting', 'HelloEllie', 'AlveFont', 'Chocolatines', 'WhySoSkinny', 'UglyKids-Italic', 'Asswipe', 'ShelbyCursive', 'KomixCon-Bold ', 'Better Together Condensed', 'Denne Marker', 'Lush', 'DESYREL_', 'ElAngeliuXx', 'Composition', 'CurlyLetters', 'ziaHW', 'DreamCatcher', 'Gaellefine', 'PWOblique', 'Special Touch - Demo', 'KUCHAR_FINAL', 'dustin_scribble', 'Madison', 'ARACNE-CONDENSED_light_italic', 'SF Grunge Sans Shadow Italic', 'Patto-Regular', 'Lyhyt Lauantai', 'HsfSkinnyTowers', 'DJB Tweenybopper', 'ExpressoCaffe', 'Baltimore Regular', 'DJB Got No Time For That', 'Cardenio Modern Std', 'MiloScript', 'Sybelia Demo', 'FollowYouIntotheWorld', 'kellilynn', 'KristalyPersonalUse', 'Delinquence', 'Lalaland', 'JaspersHandwriting-Regular', 'buttons3di', 'Manus_Smooth_TRIAL', 'CuteTumblrFont', 'RuinOfFabulerie-Regular', 'Fantica Demo', 'RipeDusk', 'SurfBoard', 'chai', 'AFE_Jen', 'Morsal', 'WishingOnAStar', 'University', 'Isabelle', 'Simple Signature - TTF', 'Breakout', 'ARACNE_light_italic', 'ligera rouden Italic', 'SelenesHandwriting1', 'OhMaria Bold', 'Mf Air Balloon', 'MouseHandwriting', 'JulyFireworks', 'Jennifers Hand Writing', 'MRF funkyfresh', 'CMonkeeLight', 'MARI&DAVID EXTRABOLD', 'BigHonk handwriting', 'Debrie_Bold', 'Snow White', 'Bean Beany', 'SneakerCollector', 'SF Scribbled Sans SC Italic', 'Catriona', 'GAELLEnumber8', 'popstarAutograph', 'ByTheButterfly', 'Austie Bost Marketplace', 'CoralSea', 'Hanabi', 'Malaya', 'Ginger', 'AlphaMacAOE', 'Lauvik', 'Lavalamp', 'HelloRamona', 'ZuleScript', 'DJB SLOPPYJO', 'SumateraRegular', 'cursi extra tfb bold', 'Dream Only', 'McKenna Light', 'MegsHand', 'TOMATOES Personal Use', 'The Happy Giraffe Demo', 'syera inline', 'Neto', 'StrikeAPose', 'Quintus_R_trial', 'IYSNobodysPerfect', 'vastorga bold', 'North City', 'Daniel_Sans', 'SlipstreamSweetheart', 'Asfrogas', 'toms handwritten new', 'Sonny_Moore', 'MH_Font', 'DJB Heart Attack', 'HelloPlayground', 'Lie to Me - TTF', 'IndieFlower', 'SamHandwriting', 'RobinScript', 'Marleen Script Normal reduced', 'WyllamDemo', 'La Belle Aurore', 'Sunshiny', 'ChicFontastic', 'SUNDROP', 'Meli Brush', 'Ladybug Love - TTF', 'SunshinesComing', 'HelloIHeart', 'signarita_louisse_light', 'Royana-Regular', 'Prestige Signature Script - Demo', 'CaroHand', 'Befindisa', 'DJB The Font that is Liz', 'koly-Handwriting', 'calligrafia sara', 'Gracie', 'Almairah 01', 'LiterallyHandwriting', 'You Me And Coffee']\n"
     ]
    },
    {
     "data": {
      "image/png": "[encoded data removed]",
      "text/plain": [
       "<Figure size 2160x216 with 1 Axes>"
      ]
     },
     "metadata": {
      "needs_background": "light"
     },
     "output_type": "display_data"
    }
   ],
   "source": [
    "cycler = Cycler(paths)\n",
    "cycler.initiate_generator()\n"
   ]
  },
  {
   "cell_type": "code",
   "execution_count": 40,
   "metadata": {},
   "outputs": [],
   "source": [
    "#import pickle\n",
    "#pickle.dump(cycler.handwritten,open( \"../data/fonts/handwritten_v1.p\", \"wb\" ))"
   ]
  },
  {
   "cell_type": "code",
   "execution_count": 37,
   "metadata": {},
   "outputs": [],
   "source": [
    "    def font_generator(paths=paths):\n",
    "        ''' This is a generator that always takes one font and \n",
    "        displays its writing style for a predetermined text.\n",
    "        '''\n",
    "        for idx, font_name in enumerate(paths):\n",
    "            try:\n",
    "                #fnt = ImageFont.truetype(paths[idx], 100)\n",
    "                #img = Image.new('RGB', (2500, 150), color = 'white')\n",
    "                #d = ImageDraw.Draw(img)\n",
    "                #d.text((10,10), \"The quick brown fox jumps over the lazy dog\",\n",
    "                #       font=fnt, fill=(0, 0, 0)\n",
    "\n",
    "                #plt.figure(figsize = (30,3))\n",
    "                #plt.imshow(img)\n",
    "\n",
    "                temp = font_name.split(\"/\")[-1].split(\".\")[0]\n",
    "                #img.save(f'../data/example{temp}.png')\n",
    "                yield temp \n",
    "\n",
    "            except:\n",
    "                yield \"failed\""
   ]
  },
  {
   "cell_type": "code",
   "execution_count": 42,
   "metadata": {},
   "outputs": [],
   "source": [
    "something = list(font_generator(paths))"
   ]
  },
  {
   "cell_type": "code",
   "execution_count": 50,
   "metadata": {},
   "outputs": [
    {
     "name": "stdout",
     "output_type": "stream",
     "text": [
      "738\n",
      "362\n"
     ]
    }
   ],
   "source": [
    "print(something.index('You Me And Coffee'))\n",
    "print(len(cycler.handwritten))"
   ]
  },
  {
   "cell_type": "code",
   "execution_count": null,
   "metadata": {},
   "outputs": [],
   "source": []
  },
  {
   "cell_type": "code",
   "execution_count": null,
   "metadata": {},
   "outputs": [],
   "source": []
  },
  {
   "cell_type": "code",
   "execution_count": null,
   "metadata": {},
   "outputs": [],
   "source": []
  },
  {
   "cell_type": "code",
   "execution_count": null,
   "metadata": {},
   "outputs": [],
   "source": []
  },
  {
   "cell_type": "code",
   "execution_count": null,
   "metadata": {},
   "outputs": [],
   "source": []
  },
  {
   "cell_type": "code",
   "execution_count": null,
   "metadata": {},
   "outputs": [],
   "source": []
  }
 ],
 "metadata": {
  "kernelspec": {
   "display_name": "Python 3",
   "language": "python",
   "name": "python3"
  },
  "language_info": {
   "codemirror_mode": {
    "name": "ipython",
    "version": 3
   },
   "file_extension": ".py",
   "mimetype": "text/x-python",
   "name": "python",
   "nbconvert_exporter": "python",
   "pygments_lexer": "ipython3",
   "version": "3.6.6"
  }
 },
 "nbformat": 4,
 "nbformat_minor": 2
}
