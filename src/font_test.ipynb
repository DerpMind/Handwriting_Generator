{
 "cells": [
  {
   "cell_type": "code",
   "execution_count": null,
   "metadata": {},
   "outputs": [],
   "source": [
    "!pwd"
   ]
  },
  {
   "cell_type": "code",
   "execution_count": 1,
   "metadata": {},
   "outputs": [
    {
     "name": "stdout",
     "output_type": "stream",
     "text": [
      "['../data/fonts/MBurnette.ttf', '../data/fonts/MattsHandwriting.ttf', '../data/fonts/ANDi-Regular.ttf', '../data/fonts/Megaink.ttf', '../data/fonts/Aspargo.ttf', '../data/fonts/Higher.ttf', '../data/fonts/michellehandwritting.ttf', '../data/fonts/Sareeka-demo.ttf', '../data/fonts/stiletto skinny.vfb.ttf', '../data/fonts/123Marker.ttf']\n"
     ]
    }
   ],
   "source": [
    "import glob2 as glob\n",
    "from PIL import Image, ImageDraw, ImageFont\n",
    "import matplotlib.pyplot as plt\n",
    "\n",
    "\n",
    "paths = glob.glob('../data/fonts/*.ttf')\n",
    "print(paths[:10])"
   ]
  },
  {
   "cell_type": "code",
   "execution_count": 3,
   "metadata": {},
   "outputs": [],
   "source": [
    "#Last classified font:\n",
    "index = 738\n",
    "paths = paths[index:]"
   ]
  },
  {
   "cell_type": "code",
   "execution_count": 7,
   "metadata": {},
   "outputs": [],
   "source": [
    "import ipywidgets as widgets\n",
    "from IPython.display import display, clear_output\n",
    "\n",
    "class Cycler:\n",
    "    \n",
    "    def __init__(self, paths):\n",
    "        self.paths = paths\n",
    "        self.handwritten = []\n",
    "        self.not_handwritten = []\n",
    "        self.yes_button = widgets.Button(description=\"Yes!\")\n",
    "        self.yes_button.on_click(self.on_yes_clicked)\n",
    "        self.no_button = widgets.Button(description=\"No\")\n",
    "        self.no_button.on_click(self.on_no_clicked)\n",
    "        self.generator = None\n",
    "        self.last_font = None\n",
    "    \n",
    "    def font_generator(self):\n",
    "        ''' This is a generator that always takes one font and \n",
    "        displays its writing style for a predetermined text.\n",
    "        '''\n",
    "        for idx, font_name in enumerate(self.paths):\n",
    "            try:\n",
    "                fnt = ImageFont.truetype(self.paths[idx], 100)\n",
    "                img = Image.new('RGB', (2500, 150), color = 'white')\n",
    "                d = ImageDraw.Draw(img)\n",
    "                d.text((10,10), \"The quick brown fox jumps over the lazy dog\",\n",
    "                       font=fnt, fill=(0, 0, 0))\n",
    "\n",
    "                plt.figure(figsize = (30,3))\n",
    "                plt.imshow(img)\n",
    "\n",
    "                temp = font_name.split(\"/\")[-1].split(\".\")[0]\n",
    "                #img.save(f'../data/example{temp}.png')\n",
    "                yield temp \n",
    "\n",
    "            except:\n",
    "                yield \"failed\"\n",
    "    \n",
    "    def initiate_generator(self):\n",
    "        self.generator = self.font_generator()\n",
    "        \n",
    "        print(\"The generator has been initiated! Click button to start.\")\n",
    "        \n",
    "        display(self.yes_button)\n",
    "        display(self.no_button)\n",
    "        return None\n",
    "    \n",
    "    def on_yes_clicked(self, b):\n",
    "        clear_output()\n",
    "        \n",
    "        if(self.last_font!=None):\n",
    "            self.handwritten.append(self.last_font)\n",
    "                \n",
    "        display(self.yes_button)\n",
    "        display(self.no_button)\n",
    "        self.last_font = next(self.generator)\n",
    "        \n",
    "        print(self.last_font)\n",
    "        print(cycler.handwritten)\n",
    "        return None\n",
    "    \n",
    "    def on_no_clicked(self, b):\n",
    "        clear_output()\n",
    "        \n",
    "        if(self.last_font!=None):\n",
    "            self.not_handwritten.append(self.last_font)\n",
    "        \n",
    "        display(self.yes_button)\n",
    "        display(self.no_button)\n",
    "        self.last_font = next(self.generator)\n",
    "        \n",
    "        print(self.last_font)\n",
    "        print(cycler.handwritten)\n",
    "        return None\n"
   ]
  },
  {
   "cell_type": "code",
   "execution_count": 9,
   "metadata": {},
   "outputs": [
    {
     "data": {
      "application/vnd.jupyter.widget-view+json": {
       "model_id": "9026a7b66ef9435d839da441a6fb6dfc",
       "version_major": 2,
       "version_minor": 0
      },
      "text/plain": [
       "Button(description='Yes!', style=ButtonStyle())"
      ]
     },
     "metadata": {},
     "output_type": "display_data"
    },
    {
     "data": {
      "application/vnd.jupyter.widget-view+json": {
       "model_id": "073a103a270142b696e39dd1d23d7b42",
       "version_major": 2,
       "version_minor": 0
      },
      "text/plain": [
       "Button(description='No', style=ButtonStyle())"
      ]
     },
     "metadata": {},
     "output_type": "display_data"
    },
    {
     "name": "stdout",
     "output_type": "stream",
     "text": [
      "dryoshiabibi\n",
      "['You Me And Coffee', '[Catalina]', 'Inclinedletter', 'gnyrwn971', 'SnorkelWhisp', 'Girly', 'Those_Days', 'JH', 'LuxuryImport', 'vite']\n"
     ]
    },
    {
     "data": {
      "image/png": "[encoded data removed]",
      "text/plain": [
       "<Figure size 2160x216 with 1 Axes>"
      ]
     },
     "metadata": {
      "needs_background": "light"
     },
     "output_type": "display_data"
    }
   ],
   "source": [
    "cycler = Cycler(paths)\n",
    "cycler.initiate_generator()\n"
   ]
  },
  {
   "cell_type": "code",
   "execution_count": 17,
   "metadata": {},
   "outputs": [],
   "source": [
    "import pickle\n",
    "index_classified = len(cycler.handwritten) + len(cycler.not_handwritten) + index\n",
    "pickle.dump(cycler.handwritten,open( f\"../data/fonts/handwritten_{index}_to_{index_classified}.p\", \"wb\" ))"
   ]
  },
  {
   "cell_type": "code",
   "execution_count": 11,
   "metadata": {},
   "outputs": [],
   "source": [
    "def font_generator(paths=paths):\n",
    "    ''' This is a generator that always takes one font and \n",
    "    displays its writing style for a predetermined text.\n",
    "    '''\n",
    "    for idx, font_name in enumerate(paths):\n",
    "\n",
    "        temp = font_name.split(\"/\")[-1].split(\".\")[0]\n",
    "        yield temp "
   ]
  },
  {
   "cell_type": "code",
   "execution_count": 12,
   "metadata": {},
   "outputs": [],
   "source": [
    "something = list(font_generator(paths))"
   ]
  },
  {
   "cell_type": "code",
   "execution_count": 13,
   "metadata": {},
   "outputs": [
    {
     "name": "stdout",
     "output_type": "stream",
     "text": [
      "0\n",
      "10\n"
     ]
    }
   ],
   "source": [
    "print(something.index('You Me And Coffee'))\n",
    "print(len(cycler.handwritten))"
   ]
  },
  {
   "cell_type": "code",
   "execution_count": null,
   "metadata": {},
   "outputs": [],
   "source": []
  },
  {
   "cell_type": "code",
   "execution_count": null,
   "metadata": {},
   "outputs": [],
   "source": []
  }
 ],
 "metadata": {
  "kernelspec": {
   "display_name": "Python 3",
   "language": "python",
   "name": "python3"
  },
  "language_info": {
   "codemirror_mode": {
    "name": "ipython",
    "version": 3
   },
   "file_extension": ".py",
   "mimetype": "text/x-python",
   "name": "python",
   "nbconvert_exporter": "python",
   "pygments_lexer": "ipython3",
   "version": "3.6.6"
  }
 },
 "nbformat": 4,
 "nbformat_minor": 2
}
