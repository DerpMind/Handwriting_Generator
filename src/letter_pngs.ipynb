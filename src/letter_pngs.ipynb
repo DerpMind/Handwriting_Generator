{
 "cells": [
  {
   "cell_type": "code",
   "execution_count": 8,
   "metadata": {},
   "outputs": [],
   "source": [
    "FONT_PATH = '../data/fonts/'"
   ]
  },
  {
   "cell_type": "code",
   "execution_count": 9,
   "metadata": {},
   "outputs": [],
   "source": [
    "from PIL import Image, ImageDraw, ImageFont\n",
    "import matplotlib.pyplot as plt\n",
    "import glob2 as glob"
   ]
  },
  {
   "cell_type": "code",
   "execution_count": 10,
   "metadata": {},
   "outputs": [],
   "source": [
    "paths = glob.glob(FONT_PATH + '*.ttf')"
   ]
  },
  {
   "cell_type": "code",
   "execution_count": 11,
   "metadata": {},
   "outputs": [
    {
     "data": {
      "text/plain": [
       "4477"
      ]
     },
     "execution_count": 11,
     "metadata": {},
     "output_type": "execute_result"
    }
   ],
   "source": [
    "len(paths)"
   ]
  },
  {
   "cell_type": "code",
   "execution_count": 12,
   "metadata": {},
   "outputs": [],
   "source": [
    "letters = ['A', 'B', 'C', 'D', 'E', 'F', 'G','H', 'I', 'J', 'K', 'L', 'M', 'N', 'O', 'P', 'Q', 'R', \\\n",
    "           'S', 'T', 'U', 'V', 'W', 'X', 'Y', 'Z', 'a', 'b', 'd', 'e', 'f', 'g', 'h', 'n', 'q', 'r',\\\n",
    "           't']"
   ]
  },
  {
   "cell_type": "code",
   "execution_count": 13,
   "metadata": {},
   "outputs": [],
   "source": [
    "import os"
   ]
  },
  {
   "cell_type": "code",
   "execution_count": 22,
   "metadata": {},
   "outputs": [],
   "source": [
    "for i in letters:\n",
    "    os.mkdir(f'../data/{i}')"
   ]
  },
  {
   "cell_type": "code",
   "execution_count": 24,
   "metadata": {},
   "outputs": [],
   "source": [
    "def letter_directories():\n",
    "    for i in letters:\n",
    "        os.mkdir(f'../data/{i}')\n",
    "    for i, char in enumerate(letters):\n",
    "        for idx, font_name in enumerate(paths):\n",
    "            try:\n",
    "                fnt = ImageFont.truetype(paths[idx], 100)\n",
    "                img = Image.new('RGB', (250, 150), color = 'white')\n",
    "                d = ImageDraw.Draw(img)\n",
    "                d.text((100,20), letters[i], font=fnt, fill=(0,0,0))\n",
    "    #             plt.figure(figsize=(20,20))\n",
    "    #             plt.imshow(img)\n",
    "                temp = font_name.split('/')[-1].split('.')[0]\n",
    "                img.save(f'../data/{char}/{temp}.png')\n",
    "            except:\n",
    "                pass"
   ]
  },
  {
   "cell_type": "code",
   "execution_count": 6,
   "metadata": {},
   "outputs": [],
   "source": [
    "path = paths[0]"
   ]
  },
  {
   "cell_type": "code",
   "execution_count": 8,
   "metadata": {},
   "outputs": [
    {
     "data": {
      "text/plain": [
       "'ADAMSFONT'"
      ]
     },
     "execution_count": 8,
     "metadata": {},
     "output_type": "execute_result"
    }
   ],
   "source": [
    "path.split('/')[-1].split('.')[0]"
   ]
  },
  {
   "cell_type": "code",
   "execution_count": 12,
   "metadata": {},
   "outputs": [],
   "source": [
    "import sys"
   ]
  },
  {
   "cell_type": "code",
   "execution_count": 13,
   "metadata": {},
   "outputs": [
    {
     "data": {
      "text/plain": [
       "'/home/mathlizard/anaconda3/bin/python'"
      ]
     },
     "execution_count": 13,
     "metadata": {},
     "output_type": "execute_result"
    }
   ],
   "source": [
    "sys.executable"
   ]
  },
  {
   "cell_type": "code",
   "execution_count": 14,
   "metadata": {},
   "outputs": [],
   "source": [
    "import platform"
   ]
  },
  {
   "cell_type": "code",
   "execution_count": 15,
   "metadata": {},
   "outputs": [
    {
     "data": {
      "text/plain": [
       "'3.6.5'"
      ]
     },
     "execution_count": 15,
     "metadata": {},
     "output_type": "execute_result"
    }
   ],
   "source": [
    "platform.python_version()"
   ]
  },
  {
   "cell_type": "code",
   "execution_count": 35,
   "metadata": {},
   "outputs": [],
   "source": [
    "import numpy as np"
   ]
  },
  {
   "cell_type": "code",
   "execution_count": 36,
   "metadata": {},
   "outputs": [],
   "source": [
    "bad_pic_1 = np.array(img)"
   ]
  },
  {
   "cell_type": "code",
   "execution_count": 37,
   "metadata": {},
   "outputs": [],
   "source": [
    "bad_pic_2 = np.array(img_2)"
   ]
  },
  {
   "cell_type": "code",
   "execution_count": 39,
   "metadata": {},
   "outputs": [
    {
     "data": {
      "text/plain": [
       "(150, 250, 3)"
      ]
     },
     "execution_count": 39,
     "metadata": {},
     "output_type": "execute_result"
    }
   ],
   "source": [
    "bad_pic_1.shape"
   ]
  },
  {
   "cell_type": "code",
   "execution_count": 55,
   "metadata": {},
   "outputs": [],
   "source": [
    "def rgb2gray(rgb):\n",
    "    return np.dot(rgb[...,:3], [0.299, 0.587, 0.114])"
   ]
  },
  {
   "cell_type": "code",
   "execution_count": 45,
   "metadata": {},
   "outputs": [],
   "source": [
    "gray_bad_pic_1 = rgb2gray(bad_pic_1)"
   ]
  },
  {
   "cell_type": "code",
   "execution_count": 46,
   "metadata": {},
   "outputs": [],
   "source": [
    "gray_bad_pic_2= rgb2gray(bad_pic_2)"
   ]
  },
  {
   "cell_type": "code",
   "execution_count": 47,
   "metadata": {},
   "outputs": [],
   "source": [
    "good_pic_1 = Image.open(ex_1)"
   ]
  },
  {
   "cell_type": "code",
   "execution_count": 48,
   "metadata": {},
   "outputs": [],
   "source": [
    "good_pic_1 = np.array(good_pic_1)"
   ]
  },
  {
   "cell_type": "code",
   "execution_count": 49,
   "metadata": {},
   "outputs": [],
   "source": [
    "good_pic_1 = rgb2gray(good_pic_1)"
   ]
  },
  {
   "cell_type": "code",
   "execution_count": 52,
   "metadata": {},
   "outputs": [
    {
     "data": {
      "text/plain": [
       "<matplotlib.image.AxesImage at 0x7f56550c8198>"
      ]
     },
     "execution_count": 52,
     "metadata": {},
     "output_type": "execute_result"
    },
    {
     "data": {
      "image/png": "[encoded data removed]",
      "text/plain": [
       "<Figure size 432x288 with 1 Axes>"
      ]
     },
     "metadata": {},
     "output_type": "display_data"
    }
   ],
   "source": [
    "plt.imshow(good_pic_1,'gray')"
   ]
  },
  {
   "cell_type": "code",
   "execution_count": 53,
   "metadata": {},
   "outputs": [
    {
     "data": {
      "text/plain": [
       "(150, 250)"
      ]
     },
     "execution_count": 53,
     "metadata": {},
     "output_type": "execute_result"
    }
   ],
   "source": [
    "good_pic_1.shape"
   ]
  },
  {
   "cell_type": "code",
   "execution_count": 6,
   "metadata": {},
   "outputs": [],
   "source": [
    "import pickle"
   ]
  },
  {
   "cell_type": "code",
   "execution_count": 7,
   "metadata": {},
   "outputs": [],
   "source": [
    "selected_fonts = pickle.load(open('../data/fonts/handwritten_1_to_738.p', 'rb'))"
   ]
  },
  {
   "cell_type": "code",
   "execution_count": 15,
   "metadata": {},
   "outputs": [
    {
     "data": {
      "text/plain": [
       "['MattsHandwriting',\n",
       " 'Megaink',\n",
       " 'Aspargo',\n",
       " 'michellehandwritting',\n",
       " 'Sareeka-demo',\n",
       " 'ONEFINGER_CRE',\n",
       " 'KBReallyDnealie',\n",
       " 'DjuiceWriting',\n",
       " 'Quirking',\n",
       " 'Rose Colored',\n",
       " 'inkworms',\n",
       " 'dali____',\n",
       " 'Scoder Refined',\n",
       " 'TheHundredClub',\n",
       " 'Glitter Script',\n",
       " 'JackieKCursive',\n",
       " 'LauraClaire',\n",
       " 'RoughNotesSample',\n",
       " 'School_Writing',\n",
       " 'MTF Gavin',\n",
       " 'handzpyd-demo',\n",
       " 'B-de-bonita',\n",
       " 'velocity_demo',\n",
       " 'AFE_Jen_Bold',\n",
       " 'Valairya personal use',\n",
       " 'Entopia(Demo)',\n",
       " 'Funky punky',\n",
       " 'Apalu',\n",
       " 'Billys_Hand_Thin',\n",
       " 'Gabby',\n",
       " 'Love & Trust',\n",
       " 'DaintyDaisies',\n",
       " 'Lsmimrdr',\n",
       " 'Singularity',\n",
       " 'KDG',\n",
       " 'TheJacklyn',\n",
       " 'Pigeon_scribble',\n",
       " 'Elo Hand',\n",
       " 'Notera2Medium_PERSONAL',\n",
       " 'An_Original_Font_By_Davi',\n",
       " 'GreatSpringtime',\n",
       " 'DaveyHand',\n",
       " 'Hartford Demo',\n",
       " 'Joshe Original',\n",
       " 'BehindtheMirror',\n",
       " 'dill pickles',\n",
       " 'Black Hawk',\n",
       " 'WorkThatWednesday',\n",
       " 'sedna',\n",
       " 'ShookenDemo',\n",
       " 'lazy writer',\n",
       " 'Enchanted Castle',\n",
       " 'gabiie_s handwritting',\n",
       " 'Flamingo 54',\n",
       " 'Lalex',\n",
       " 'morado felt',\n",
       " 'Jack Ripper Hand',\n",
       " 'frightnight',\n",
       " 'Dhanikans Signature Italic_dafont',\n",
       " 'Congrats Script - TTF',\n",
       " 'Serenity Demo',\n",
       " 'ADAMSFONT',\n",
       " 'lollipop',\n",
       " 'Conrad-Regular',\n",
       " '!PaulMaul',\n",
       " 'Easy November',\n",
       " 'VadimsWriting',\n",
       " 'MaxsDreamland',\n",
       " 'Hamline demo',\n",
       " 'Lewis hand semibold',\n",
       " 'Aesthetik Script DEMO',\n",
       " 'GaelleingFont',\n",
       " 'Madeleine-Demo',\n",
       " 'ApplauseFont',\n",
       " 'Fairyland Demo Font',\n",
       " 'Jellofont',\n",
       " 'Crunchy_PERSONAL_USE_ONLY',\n",
       " 'angelib',\n",
       " 'KubaReczny_1',\n",
       " 'A Glitch In Time',\n",
       " 'ToralfontClassic',\n",
       " 'Suji',\n",
       " 'daddysgirl',\n",
       " 'PRIMAHANDWRITE',\n",
       " 'Simply Glamorous',\n",
       " 'IndigoRacers',\n",
       " 'mightyroping',\n",
       " 'dearJoe 6 TRIAL',\n",
       " 'ForefarmersDEMO',\n",
       " 'CollectionOfJays',\n",
       " 'me handwritin Thin',\n",
       " 'Sweet Home Oklahoma',\n",
       " 'maya',\n",
       " 'DJB Heart Attack 2',\n",
       " 'my derp handwriting',\n",
       " 'inkpen_scribble',\n",
       " 'SunnySpring',\n",
       " 'OrangeCounty',\n",
       " 'Danger Zone',\n",
       " 'Crumble Demo',\n",
       " 'MTF Colleen Cursive',\n",
       " 'andyallshort',\n",
       " 'cheddar jack',\n",
       " 'Foxes In Love',\n",
       " 'de Manu 1  MediumItalic',\n",
       " 'demoi',\n",
       " 'Easy Going - Demo',\n",
       " 'Hesster Mofet CLEAN_TRIAL',\n",
       " 'Onceuponatime',\n",
       " 'StormysFontNarrow',\n",
       " 'Blueberry Oatmeal Regular',\n",
       " 'Joshua',\n",
       " 'Glass_Hand',\n",
       " 'Paresh',\n",
       " 'RoseDiFont',\n",
       " 'HayleysFont',\n",
       " 'GeorgesNotes',\n",
       " 'SkinnyBitch',\n",
       " 'Sucked_Dry',\n",
       " 'Nohubotiempo',\n",
       " 'MTF drgnldy',\n",
       " 'seriously',\n",
       " 'ChildsWish',\n",
       " 'BEERNOTE trial',\n",
       " 'factory worker',\n",
       " 'Wonderful',\n",
       " 'TwerkingNasty',\n",
       " 'coffeyto',\n",
       " 'MTF Hooty Coo',\n",
       " 'Easy Speech_free',\n",
       " 'Dinosaur',\n",
       " 'MTF Lexi',\n",
       " 'OrenScript',\n",
       " 'JJWEB2',\n",
       " 'ginolib_',\n",
       " 'Blank Eye',\n",
       " 'adam handwriting test',\n",
       " 'SneakerHunting',\n",
       " 'SeasonFourteen',\n",
       " 'OvertheRainbow',\n",
       " 'BEDSA',\n",
       " 'Wolframia',\n",
       " 'our lil secret forever',\n",
       " 'A Perfect Place - TTF',\n",
       " 'Soljik-Dambaek',\n",
       " 'MisterSpicyDos',\n",
       " 'Billenia Standard',\n",
       " 'Stroketastic',\n",
       " 'ShimesOne_PERSONAL',\n",
       " 'trav2',\n",
       " 'GatewayDrug',\n",
       " 'HoneyScript-SemiBold',\n",
       " 'Fall is Coming - TTF',\n",
       " 'Vtks Rash',\n",
       " 'Budhayanti script',\n",
       " 'Victoria',\n",
       " 'debhandwriting',\n",
       " 'Hello Bunda Demo',\n",
       " 'MulticolorAgilitys',\n",
       " 'Lennon',\n",
       " 'Large_Handwriting',\n",
       " 'Jovanka demo',\n",
       " 'HelloPoolNoodle',\n",
       " 'BeachScript-Regular',\n",
       " 'Firdaus',\n",
       " 'Signerella',\n",
       " 'Kathleen',\n",
       " 'daniel',\n",
       " 'Jenny Hand',\n",
       " 'Lara Prints',\n",
       " 'Guys My Age - TTF',\n",
       " 'asdf',\n",
       " 'paradise',\n",
       " 'James_Fajardo',\n",
       " 'MagicPens',\n",
       " 'vtks show',\n",
       " 'n_Bernard',\n",
       " 'Platly',\n",
       " 'Burston',\n",
       " 'Dancing in the Beat',\n",
       " 'Sandat',\n",
       " 'Lindberg_hand_and_symbols',\n",
       " 'boldLOUD',\n",
       " 'Biloxi Thin',\n",
       " 'CandyDelish',\n",
       " 'AniLazyDay',\n",
       " 'stripedsunshine',\n",
       " 'SamDam',\n",
       " 'JetskisInSummer',\n",
       " 'Guayaquil1800',\n",
       " 'Pumpkins Personal Use',\n",
       " 'iwfxv02',\n",
       " 'VTC JoeleneHand Bold Italic',\n",
       " 'Maya_s_Script',\n",
       " 'Beneath_the_floorboards',\n",
       " 'Chloe s handwriting',\n",
       " 'A Gentle Touch',\n",
       " 'bonbon',\n",
       " 'Hello Beauty Personal Use',\n",
       " 'Sweet-Yell',\n",
       " 'MaryKate',\n",
       " 'HelloCake',\n",
       " 'BeautifulEveryTime',\n",
       " 'Bold Curse',\n",
       " 'phandv2',\n",
       " 'SkitserFineliner',\n",
       " 'DJB Annalise the Brave',\n",
       " 'madman',\n",
       " 'Hand Of TT',\n",
       " 'Shout',\n",
       " 'AbigailScriptDemo-Regular',\n",
       " 'Hand of Joe',\n",
       " 'Radeshia',\n",
       " 'dusty_matchbox',\n",
       " 'picablo fentier',\n",
       " '20 cents marker',\n",
       " 'RubenKoops',\n",
       " 'ItsNotMonday',\n",
       " 'Nathaniel',\n",
       " 'something blue light',\n",
       " 'alfa deta demo',\n",
       " 'Eternal Fascination',\n",
       " 'PWFine',\n",
       " 'EkologieHand_PERSONAL_USE_ONLY',\n",
       " 'HZHandwrite',\n",
       " 'SaraScribbles',\n",
       " 'Taylor Swift Handwriting',\n",
       " 'Indesign Signature - PERSONAL USE',\n",
       " 'AlveFont',\n",
       " 'Chocolatines',\n",
       " 'SafariColorway',\n",
       " 'Muurahaiskarhu',\n",
       " 'Grinty-FREE',\n",
       " 'ShelbyCursive',\n",
       " 'WinebytheGlass',\n",
       " 'KGSatisfiedScript',\n",
       " 'laila ali',\n",
       " 'Owen_Hand',\n",
       " 'DESYREL_',\n",
       " 'ElAngeliuXx',\n",
       " 'CrappyPeanuts',\n",
       " 'CurlyLetters',\n",
       " 'I Love Glitter - TTF',\n",
       " 'DreamCatcher',\n",
       " 'merrichrisi',\n",
       " 'PWOblique',\n",
       " 'Special Touch - Demo',\n",
       " 'SawasHand',\n",
       " 'dustin_scribble',\n",
       " 'Madison',\n",
       " 'JimbosPrint-Bold-Italic',\n",
       " 'OhHello',\n",
       " 'Bernard',\n",
       " 'LUCY-LU, TOO',\n",
       " 'ReaganaldScript',\n",
       " 'DJB Tweenybopper',\n",
       " 'CONTENG MARKER',\n",
       " 'Ashalina Demo',\n",
       " 'DJB Got No Time For That',\n",
       " 'Bigmcn__',\n",
       " 'MiloScript',\n",
       " 'Sybelia Demo',\n",
       " 'Mi_nombre_es_Problema',\n",
       " 'kellilynn',\n",
       " 'KristalyPersonalUse',\n",
       " 'My_Unprofessional_Handwriting',\n",
       " 'Lalaland',\n",
       " 'JaspersHandwriting-Regular',\n",
       " 'pencilCASE',\n",
       " 'Manus_Smooth_TRIAL',\n",
       " 'CuteTumblrFont',\n",
       " 'Jenthill DEMO',\n",
       " 'Fantica Demo',\n",
       " 'RipeDusk',\n",
       " 'michelle digital handwritten',\n",
       " 'chai',\n",
       " 'AFE_Jen',\n",
       " 'Morsal',\n",
       " 'Daisy',\n",
       " 'kafka',\n",
       " 'Isabelle',\n",
       " 'Simple Signature - TTF',\n",
       " 'Breakout',\n",
       " 'Lighthouse',\n",
       " 'Aspades-Regular',\n",
       " 'SelenesHandwriting1',\n",
       " 'DJB About a Boy',\n",
       " 'Bradford',\n",
       " 'MouseHandwriting',\n",
       " 'youfoundme',\n",
       " 'Jennifers Hand Writing',\n",
       " 'MRF funkyfresh',\n",
       " 'Biloxi Script',\n",
       " 'Handwritingfont',\n",
       " 'BigHonk handwriting',\n",
       " 'Debrie_Bold',\n",
       " 'Snow White',\n",
       " 'Bean Beany',\n",
       " 'As Cute As',\n",
       " 'SF Scribbled Sans SC Italic',\n",
       " 'Catriona',\n",
       " 'GAELLEnumber8',\n",
       " 'popstarAutograph',\n",
       " 'ByTheButterfly',\n",
       " 'Austie Bost Marketplace',\n",
       " 'MTF Krystyna',\n",
       " 'Hanabi',\n",
       " 'Malaya',\n",
       " 'Ginger',\n",
       " 'AlphaMacAOE',\n",
       " 'Lauvik',\n",
       " 'Lavalamp',\n",
       " 'BlackMambaDg',\n",
       " 'ZuleScript',\n",
       " 'DJB SLOPPYJO',\n",
       " 'SumateraRegular',\n",
       " 'DancingintheMinefields',\n",
       " 'Larquette Typeface',\n",
       " 'McKenna Light',\n",
       " 'MegsHand',\n",
       " 'TOMATOES Personal Use',\n",
       " 'LandslideSample',\n",
       " 'syera inline',\n",
       " 'Homerun Demo',\n",
       " 'StrikeAPose',\n",
       " 'Quintus_R_trial',\n",
       " 'IYSNobodysPerfect',\n",
       " 'vastorga bold',\n",
       " 'North City',\n",
       " 'Daniel_Sans',\n",
       " 'SlipstreamSweetheart',\n",
       " 'Asfrogas',\n",
       " 'toms handwritten new',\n",
       " 'Sonny_Moore',\n",
       " 'MH_Font',\n",
       " 'DJB Heart Attack',\n",
       " 'HelloPlayground',\n",
       " 'Lie to Me - TTF',\n",
       " 'IndieFlower',\n",
       " 'SamHandwriting',\n",
       " 'RobinScript',\n",
       " 'Marleen Script Normal reduced',\n",
       " 'WyllamDemo',\n",
       " 'La Belle Aurore',\n",
       " 'KBGrandeur',\n",
       " 'ChicFontastic',\n",
       " 'CurlyGirl',\n",
       " 'Meli Brush',\n",
       " 'SkitserMarker',\n",
       " 'FantasticSunset',\n",
       " 'Tell us, Pangaia',\n",
       " 'signarita_louisse_light',\n",
       " 'Kindergarten',\n",
       " 'Prestige Signature Script - Demo',\n",
       " 'morado nib',\n",
       " 'Befindisa',\n",
       " 'DJB The Font that is Liz',\n",
       " 'koly-Handwriting',\n",
       " 'calligrafia sara',\n",
       " 'AvailableReservation',\n",
       " 'Almairah 01',\n",
       " 'LiterallyHandwriting',\n",
       " 'You Me And Coffee']"
      ]
     },
     "execution_count": 15,
     "metadata": {},
     "output_type": "execute_result"
    }
   ],
   "source": [
    "selected_fonts"
   ]
  },
  {
   "cell_type": "code",
   "execution_count": 24,
   "metadata": {},
   "outputs": [],
   "source": [
    "selected_paths = []\n",
    "for i in selected_fonts:\n",
    "    path = f'../data/fonts/{i}.ttf'\n",
    "    selected_paths.append(path)"
   ]
  },
  {
   "cell_type": "code",
   "execution_count": 27,
   "metadata": {},
   "outputs": [
    {
     "data": {
      "text/plain": [
       "['../data/fonts/MattsHandwriting.ttf',\n",
       " '../data/fonts/Megaink.ttf',\n",
       " '../data/fonts/Aspargo.ttf',\n",
       " '../data/fonts/michellehandwritting.ttf',\n",
       " '../data/fonts/Sareeka-demo.ttf',\n",
       " '../data/fonts/ONEFINGER_CRE.ttf',\n",
       " '../data/fonts/KBReallyDnealie.ttf',\n",
       " '../data/fonts/DjuiceWriting.ttf',\n",
       " '../data/fonts/Quirking.ttf',\n",
       " '../data/fonts/Rose Colored.ttf',\n",
       " '../data/fonts/inkworms.ttf',\n",
       " '../data/fonts/dali____.ttf',\n",
       " '../data/fonts/Scoder Refined.ttf',\n",
       " '../data/fonts/TheHundredClub.ttf',\n",
       " '../data/fonts/Glitter Script.ttf',\n",
       " '../data/fonts/JackieKCursive.ttf',\n",
       " '../data/fonts/LauraClaire.ttf',\n",
       " '../data/fonts/RoughNotesSample.ttf',\n",
       " '../data/fonts/School_Writing.ttf',\n",
       " '../data/fonts/MTF Gavin.ttf',\n",
       " '../data/fonts/handzpyd-demo.ttf',\n",
       " '../data/fonts/B-de-bonita.ttf',\n",
       " '../data/fonts/velocity_demo.ttf',\n",
       " '../data/fonts/AFE_Jen_Bold.ttf',\n",
       " '../data/fonts/Valairya personal use.ttf',\n",
       " '../data/fonts/Entopia(Demo).ttf',\n",
       " '../data/fonts/Funky punky.ttf',\n",
       " '../data/fonts/Apalu.ttf',\n",
       " '../data/fonts/Billys_Hand_Thin.ttf',\n",
       " '../data/fonts/Gabby.ttf',\n",
       " '../data/fonts/Love & Trust.ttf',\n",
       " '../data/fonts/DaintyDaisies.ttf',\n",
       " '../data/fonts/Lsmimrdr.ttf',\n",
       " '../data/fonts/Singularity.ttf',\n",
       " '../data/fonts/KDG.ttf',\n",
       " '../data/fonts/TheJacklyn.ttf',\n",
       " '../data/fonts/Pigeon_scribble.ttf',\n",
       " '../data/fonts/Elo Hand.ttf',\n",
       " '../data/fonts/Notera2Medium_PERSONAL.ttf',\n",
       " '../data/fonts/An_Original_Font_By_Davi.ttf',\n",
       " '../data/fonts/GreatSpringtime.ttf',\n",
       " '../data/fonts/DaveyHand.ttf',\n",
       " '../data/fonts/Hartford Demo.ttf',\n",
       " '../data/fonts/Joshe Original.ttf',\n",
       " '../data/fonts/BehindtheMirror.ttf',\n",
       " '../data/fonts/dill pickles.ttf',\n",
       " '../data/fonts/Black Hawk.ttf',\n",
       " '../data/fonts/WorkThatWednesday.ttf',\n",
       " '../data/fonts/sedna.ttf',\n",
       " '../data/fonts/ShookenDemo.ttf',\n",
       " '../data/fonts/lazy writer.ttf',\n",
       " '../data/fonts/Enchanted Castle.ttf',\n",
       " '../data/fonts/gabiie_s handwritting.ttf',\n",
       " '../data/fonts/Flamingo 54.ttf',\n",
       " '../data/fonts/Lalex.ttf',\n",
       " '../data/fonts/morado felt.ttf',\n",
       " '../data/fonts/Jack Ripper Hand.ttf',\n",
       " '../data/fonts/frightnight.ttf',\n",
       " '../data/fonts/Dhanikans Signature Italic_dafont.ttf',\n",
       " '../data/fonts/Congrats Script - TTF.ttf',\n",
       " '../data/fonts/Serenity Demo.ttf',\n",
       " '../data/fonts/ADAMSFONT.ttf',\n",
       " '../data/fonts/lollipop.ttf',\n",
       " '../data/fonts/Conrad-Regular.ttf',\n",
       " '../data/fonts/!PaulMaul.ttf',\n",
       " '../data/fonts/Easy November.ttf',\n",
       " '../data/fonts/VadimsWriting.ttf',\n",
       " '../data/fonts/MaxsDreamland.ttf',\n",
       " '../data/fonts/Hamline demo.ttf',\n",
       " '../data/fonts/Lewis hand semibold.ttf',\n",
       " '../data/fonts/Aesthetik Script DEMO.ttf',\n",
       " '../data/fonts/GaelleingFont.ttf',\n",
       " '../data/fonts/Madeleine-Demo.ttf',\n",
       " '../data/fonts/ApplauseFont.ttf',\n",
       " '../data/fonts/Fairyland Demo Font.ttf',\n",
       " '../data/fonts/Jellofont.ttf',\n",
       " '../data/fonts/Crunchy_PERSONAL_USE_ONLY.ttf',\n",
       " '../data/fonts/angelib.ttf',\n",
       " '../data/fonts/KubaReczny_1.ttf',\n",
       " '../data/fonts/A Glitch In Time.ttf',\n",
       " '../data/fonts/ToralfontClassic.ttf',\n",
       " '../data/fonts/Suji.ttf',\n",
       " '../data/fonts/daddysgirl.ttf',\n",
       " '../data/fonts/PRIMAHANDWRITE.ttf',\n",
       " '../data/fonts/Simply Glamorous.ttf',\n",
       " '../data/fonts/IndigoRacers.ttf',\n",
       " '../data/fonts/mightyroping.ttf',\n",
       " '../data/fonts/dearJoe 6 TRIAL.ttf',\n",
       " '../data/fonts/ForefarmersDEMO.ttf',\n",
       " '../data/fonts/CollectionOfJays.ttf',\n",
       " '../data/fonts/me handwritin Thin.ttf',\n",
       " '../data/fonts/Sweet Home Oklahoma.ttf',\n",
       " '../data/fonts/maya.ttf',\n",
       " '../data/fonts/DJB Heart Attack 2.ttf',\n",
       " '../data/fonts/my derp handwriting.ttf',\n",
       " '../data/fonts/inkpen_scribble.ttf',\n",
       " '../data/fonts/SunnySpring.ttf',\n",
       " '../data/fonts/OrangeCounty.ttf',\n",
       " '../data/fonts/Danger Zone.ttf',\n",
       " '../data/fonts/Crumble Demo.ttf',\n",
       " '../data/fonts/MTF Colleen Cursive.ttf',\n",
       " '../data/fonts/andyallshort.ttf',\n",
       " '../data/fonts/cheddar jack.ttf',\n",
       " '../data/fonts/Foxes In Love.ttf',\n",
       " '../data/fonts/de Manu 1  MediumItalic.ttf',\n",
       " '../data/fonts/demoi.ttf',\n",
       " '../data/fonts/Easy Going - Demo.ttf',\n",
       " '../data/fonts/Hesster Mofet CLEAN_TRIAL.ttf',\n",
       " '../data/fonts/Onceuponatime.ttf',\n",
       " '../data/fonts/StormysFontNarrow.ttf',\n",
       " '../data/fonts/Blueberry Oatmeal Regular.ttf',\n",
       " '../data/fonts/Joshua.ttf',\n",
       " '../data/fonts/Glass_Hand.ttf',\n",
       " '../data/fonts/Paresh.ttf',\n",
       " '../data/fonts/RoseDiFont.ttf',\n",
       " '../data/fonts/HayleysFont.ttf',\n",
       " '../data/fonts/GeorgesNotes.ttf',\n",
       " '../data/fonts/SkinnyBitch.ttf',\n",
       " '../data/fonts/Sucked_Dry.ttf',\n",
       " '../data/fonts/Nohubotiempo.ttf',\n",
       " '../data/fonts/MTF drgnldy.ttf',\n",
       " '../data/fonts/seriously.ttf',\n",
       " '../data/fonts/ChildsWish.ttf',\n",
       " '../data/fonts/BEERNOTE trial.ttf',\n",
       " '../data/fonts/factory worker.ttf',\n",
       " '../data/fonts/Wonderful.ttf',\n",
       " '../data/fonts/TwerkingNasty.ttf',\n",
       " '../data/fonts/coffeyto.ttf',\n",
       " '../data/fonts/MTF Hooty Coo.ttf',\n",
       " '../data/fonts/Easy Speech_free.ttf',\n",
       " '../data/fonts/Dinosaur.ttf',\n",
       " '../data/fonts/MTF Lexi.ttf',\n",
       " '../data/fonts/OrenScript.ttf',\n",
       " '../data/fonts/JJWEB2.ttf',\n",
       " '../data/fonts/ginolib_.ttf',\n",
       " '../data/fonts/Blank Eye.ttf',\n",
       " '../data/fonts/adam handwriting test.ttf',\n",
       " '../data/fonts/SneakerHunting.ttf',\n",
       " '../data/fonts/SeasonFourteen.ttf',\n",
       " '../data/fonts/OvertheRainbow.ttf',\n",
       " '../data/fonts/BEDSA.ttf',\n",
       " '../data/fonts/Wolframia.ttf',\n",
       " '../data/fonts/our lil secret forever.ttf',\n",
       " '../data/fonts/A Perfect Place - TTF.ttf',\n",
       " '../data/fonts/Soljik-Dambaek.ttf',\n",
       " '../data/fonts/MisterSpicyDos.ttf',\n",
       " '../data/fonts/Billenia Standard.ttf',\n",
       " '../data/fonts/Stroketastic.ttf',\n",
       " '../data/fonts/ShimesOne_PERSONAL.ttf',\n",
       " '../data/fonts/trav2.ttf',\n",
       " '../data/fonts/GatewayDrug.ttf',\n",
       " '../data/fonts/HoneyScript-SemiBold.ttf',\n",
       " '../data/fonts/Fall is Coming - TTF.ttf',\n",
       " '../data/fonts/Vtks Rash.ttf',\n",
       " '../data/fonts/Budhayanti script.ttf',\n",
       " '../data/fonts/Victoria.ttf',\n",
       " '../data/fonts/debhandwriting.ttf',\n",
       " '../data/fonts/Hello Bunda Demo.ttf',\n",
       " '../data/fonts/MulticolorAgilitys.ttf',\n",
       " '../data/fonts/Lennon.ttf',\n",
       " '../data/fonts/Large_Handwriting.ttf',\n",
       " '../data/fonts/Jovanka demo.ttf',\n",
       " '../data/fonts/HelloPoolNoodle.ttf',\n",
       " '../data/fonts/BeachScript-Regular.ttf',\n",
       " '../data/fonts/Firdaus.ttf',\n",
       " '../data/fonts/Signerella.ttf',\n",
       " '../data/fonts/Kathleen.ttf',\n",
       " '../data/fonts/daniel.ttf',\n",
       " '../data/fonts/Jenny Hand.ttf',\n",
       " '../data/fonts/Lara Prints.ttf',\n",
       " '../data/fonts/Guys My Age - TTF.ttf',\n",
       " '../data/fonts/asdf.ttf',\n",
       " '../data/fonts/paradise.ttf',\n",
       " '../data/fonts/James_Fajardo.ttf',\n",
       " '../data/fonts/MagicPens.ttf',\n",
       " '../data/fonts/vtks show.ttf',\n",
       " '../data/fonts/n_Bernard.ttf',\n",
       " '../data/fonts/Platly.ttf',\n",
       " '../data/fonts/Burston.ttf',\n",
       " '../data/fonts/Dancing in the Beat.ttf',\n",
       " '../data/fonts/Sandat.ttf',\n",
       " '../data/fonts/Lindberg_hand_and_symbols.ttf',\n",
       " '../data/fonts/boldLOUD.ttf',\n",
       " '../data/fonts/Biloxi Thin.ttf',\n",
       " '../data/fonts/CandyDelish.ttf',\n",
       " '../data/fonts/AniLazyDay.ttf',\n",
       " '../data/fonts/stripedsunshine.ttf',\n",
       " '../data/fonts/SamDam.ttf',\n",
       " '../data/fonts/JetskisInSummer.ttf',\n",
       " '../data/fonts/Guayaquil1800.ttf',\n",
       " '../data/fonts/Pumpkins Personal Use.ttf',\n",
       " '../data/fonts/iwfxv02.ttf',\n",
       " '../data/fonts/VTC JoeleneHand Bold Italic.ttf',\n",
       " '../data/fonts/Maya_s_Script.ttf',\n",
       " '../data/fonts/Beneath_the_floorboards.ttf',\n",
       " '../data/fonts/Chloe s handwriting.ttf',\n",
       " '../data/fonts/A Gentle Touch.ttf',\n",
       " '../data/fonts/bonbon.ttf',\n",
       " '../data/fonts/Hello Beauty Personal Use.ttf',\n",
       " '../data/fonts/Sweet-Yell.ttf',\n",
       " '../data/fonts/MaryKate.ttf',\n",
       " '../data/fonts/HelloCake.ttf',\n",
       " '../data/fonts/BeautifulEveryTime.ttf',\n",
       " '../data/fonts/Bold Curse.ttf',\n",
       " '../data/fonts/phandv2.ttf',\n",
       " '../data/fonts/SkitserFineliner.ttf',\n",
       " '../data/fonts/DJB Annalise the Brave.ttf',\n",
       " '../data/fonts/madman.ttf',\n",
       " '../data/fonts/Hand Of TT.ttf',\n",
       " '../data/fonts/Shout.ttf',\n",
       " '../data/fonts/AbigailScriptDemo-Regular.ttf',\n",
       " '../data/fonts/Hand of Joe.ttf',\n",
       " '../data/fonts/Radeshia.ttf',\n",
       " '../data/fonts/dusty_matchbox.ttf',\n",
       " '../data/fonts/picablo fentier.ttf',\n",
       " '../data/fonts/20 cents marker.ttf',\n",
       " '../data/fonts/RubenKoops.ttf',\n",
       " '../data/fonts/ItsNotMonday.ttf',\n",
       " '../data/fonts/Nathaniel.ttf',\n",
       " '../data/fonts/something blue light.ttf',\n",
       " '../data/fonts/alfa deta demo.ttf',\n",
       " '../data/fonts/Eternal Fascination.ttf',\n",
       " '../data/fonts/PWFine.ttf',\n",
       " '../data/fonts/EkologieHand_PERSONAL_USE_ONLY.ttf',\n",
       " '../data/fonts/HZHandwrite.ttf',\n",
       " '../data/fonts/SaraScribbles.ttf',\n",
       " '../data/fonts/Taylor Swift Handwriting.ttf',\n",
       " '../data/fonts/Indesign Signature - PERSONAL USE.ttf',\n",
       " '../data/fonts/AlveFont.ttf',\n",
       " '../data/fonts/Chocolatines.ttf',\n",
       " '../data/fonts/SafariColorway.ttf',\n",
       " '../data/fonts/Muurahaiskarhu.ttf',\n",
       " '../data/fonts/Grinty-FREE.ttf',\n",
       " '../data/fonts/ShelbyCursive.ttf',\n",
       " '../data/fonts/WinebytheGlass.ttf',\n",
       " '../data/fonts/KGSatisfiedScript.ttf',\n",
       " '../data/fonts/laila ali.ttf',\n",
       " '../data/fonts/Owen_Hand.ttf',\n",
       " '../data/fonts/DESYREL_.ttf',\n",
       " '../data/fonts/ElAngeliuXx.ttf',\n",
       " '../data/fonts/CrappyPeanuts.ttf',\n",
       " '../data/fonts/CurlyLetters.ttf',\n",
       " '../data/fonts/I Love Glitter - TTF.ttf',\n",
       " '../data/fonts/DreamCatcher.ttf',\n",
       " '../data/fonts/merrichrisi.ttf',\n",
       " '../data/fonts/PWOblique.ttf',\n",
       " '../data/fonts/Special Touch - Demo.ttf',\n",
       " '../data/fonts/SawasHand.ttf',\n",
       " '../data/fonts/dustin_scribble.ttf',\n",
       " '../data/fonts/Madison.ttf',\n",
       " '../data/fonts/JimbosPrint-Bold-Italic.ttf',\n",
       " '../data/fonts/OhHello.ttf',\n",
       " '../data/fonts/Bernard.ttf',\n",
       " '../data/fonts/LUCY-LU, TOO.ttf',\n",
       " '../data/fonts/ReaganaldScript.ttf',\n",
       " '../data/fonts/DJB Tweenybopper.ttf',\n",
       " '../data/fonts/CONTENG MARKER.ttf',\n",
       " '../data/fonts/Ashalina Demo.ttf',\n",
       " '../data/fonts/DJB Got No Time For That.ttf',\n",
       " '../data/fonts/Bigmcn__.ttf',\n",
       " '../data/fonts/MiloScript.ttf',\n",
       " '../data/fonts/Sybelia Demo.ttf',\n",
       " '../data/fonts/Mi_nombre_es_Problema.ttf',\n",
       " '../data/fonts/kellilynn.ttf',\n",
       " '../data/fonts/KristalyPersonalUse.ttf',\n",
       " '../data/fonts/My_Unprofessional_Handwriting.ttf',\n",
       " '../data/fonts/Lalaland.ttf',\n",
       " '../data/fonts/JaspersHandwriting-Regular.ttf',\n",
       " '../data/fonts/pencilCASE.ttf',\n",
       " '../data/fonts/Manus_Smooth_TRIAL.ttf',\n",
       " '../data/fonts/CuteTumblrFont.ttf',\n",
       " '../data/fonts/Jenthill DEMO.ttf',\n",
       " '../data/fonts/Fantica Demo.ttf',\n",
       " '../data/fonts/RipeDusk.ttf',\n",
       " '../data/fonts/michelle digital handwritten.ttf',\n",
       " '../data/fonts/chai.ttf',\n",
       " '../data/fonts/AFE_Jen.ttf',\n",
       " '../data/fonts/Morsal.ttf',\n",
       " '../data/fonts/Daisy.ttf',\n",
       " '../data/fonts/kafka.ttf',\n",
       " '../data/fonts/Isabelle.ttf',\n",
       " '../data/fonts/Simple Signature - TTF.ttf',\n",
       " '../data/fonts/Breakout.ttf',\n",
       " '../data/fonts/Lighthouse.ttf',\n",
       " '../data/fonts/Aspades-Regular.ttf',\n",
       " '../data/fonts/SelenesHandwriting1.ttf',\n",
       " '../data/fonts/DJB About a Boy.ttf',\n",
       " '../data/fonts/Bradford.ttf',\n",
       " '../data/fonts/MouseHandwriting.ttf',\n",
       " '../data/fonts/youfoundme.ttf',\n",
       " '../data/fonts/Jennifers Hand Writing.ttf',\n",
       " '../data/fonts/MRF funkyfresh.ttf',\n",
       " '../data/fonts/Biloxi Script.ttf',\n",
       " '../data/fonts/Handwritingfont.ttf',\n",
       " '../data/fonts/BigHonk handwriting.ttf',\n",
       " '../data/fonts/Debrie_Bold.ttf',\n",
       " '../data/fonts/Snow White.ttf',\n",
       " '../data/fonts/Bean Beany.ttf',\n",
       " '../data/fonts/As Cute As.ttf',\n",
       " '../data/fonts/SF Scribbled Sans SC Italic.ttf',\n",
       " '../data/fonts/Catriona.ttf',\n",
       " '../data/fonts/GAELLEnumber8.ttf',\n",
       " '../data/fonts/popstarAutograph.ttf',\n",
       " '../data/fonts/ByTheButterfly.ttf',\n",
       " '../data/fonts/Austie Bost Marketplace.ttf',\n",
       " '../data/fonts/MTF Krystyna.ttf',\n",
       " '../data/fonts/Hanabi.ttf',\n",
       " '../data/fonts/Malaya.ttf',\n",
       " '../data/fonts/Ginger.ttf',\n",
       " '../data/fonts/AlphaMacAOE.ttf',\n",
       " '../data/fonts/Lauvik.ttf',\n",
       " '../data/fonts/Lavalamp.ttf',\n",
       " '../data/fonts/BlackMambaDg.ttf',\n",
       " '../data/fonts/ZuleScript.ttf',\n",
       " '../data/fonts/DJB SLOPPYJO.ttf',\n",
       " '../data/fonts/SumateraRegular.ttf',\n",
       " '../data/fonts/DancingintheMinefields.ttf',\n",
       " '../data/fonts/Larquette Typeface.ttf',\n",
       " '../data/fonts/McKenna Light.ttf',\n",
       " '../data/fonts/MegsHand.ttf',\n",
       " '../data/fonts/TOMATOES Personal Use.ttf',\n",
       " '../data/fonts/LandslideSample.ttf',\n",
       " '../data/fonts/syera inline.ttf',\n",
       " '../data/fonts/Homerun Demo.ttf',\n",
       " '../data/fonts/StrikeAPose.ttf',\n",
       " '../data/fonts/Quintus_R_trial.ttf',\n",
       " '../data/fonts/IYSNobodysPerfect.ttf',\n",
       " '../data/fonts/vastorga bold.ttf',\n",
       " '../data/fonts/North City.ttf',\n",
       " '../data/fonts/Daniel_Sans.ttf',\n",
       " '../data/fonts/SlipstreamSweetheart.ttf',\n",
       " '../data/fonts/Asfrogas.ttf',\n",
       " '../data/fonts/toms handwritten new.ttf',\n",
       " '../data/fonts/Sonny_Moore.ttf',\n",
       " '../data/fonts/MH_Font.ttf',\n",
       " '../data/fonts/DJB Heart Attack.ttf',\n",
       " '../data/fonts/HelloPlayground.ttf',\n",
       " '../data/fonts/Lie to Me - TTF.ttf',\n",
       " '../data/fonts/IndieFlower.ttf',\n",
       " '../data/fonts/SamHandwriting.ttf',\n",
       " '../data/fonts/RobinScript.ttf',\n",
       " '../data/fonts/Marleen Script Normal reduced.ttf',\n",
       " '../data/fonts/WyllamDemo.ttf',\n",
       " '../data/fonts/La Belle Aurore.ttf',\n",
       " '../data/fonts/KBGrandeur.ttf',\n",
       " '../data/fonts/ChicFontastic.ttf',\n",
       " '../data/fonts/CurlyGirl.ttf',\n",
       " '../data/fonts/Meli Brush.ttf',\n",
       " '../data/fonts/SkitserMarker.ttf',\n",
       " '../data/fonts/FantasticSunset.ttf',\n",
       " '../data/fonts/Tell us, Pangaia.ttf',\n",
       " '../data/fonts/signarita_louisse_light.ttf',\n",
       " '../data/fonts/Kindergarten.ttf',\n",
       " '../data/fonts/Prestige Signature Script - Demo.ttf',\n",
       " '../data/fonts/morado nib.ttf',\n",
       " '../data/fonts/Befindisa.ttf',\n",
       " '../data/fonts/DJB The Font that is Liz.ttf',\n",
       " '../data/fonts/koly-Handwriting.ttf',\n",
       " '../data/fonts/calligrafia sara.ttf',\n",
       " '../data/fonts/AvailableReservation.ttf',\n",
       " '../data/fonts/Almairah 01.ttf',\n",
       " '../data/fonts/LiterallyHandwriting.ttf',\n",
       " '../data/fonts/You Me And Coffee.ttf']"
      ]
     },
     "execution_count": 27,
     "metadata": {},
     "output_type": "execute_result"
    }
   ],
   "source": [
    "selected_paths"
   ]
  },
  {
   "cell_type": "code",
   "execution_count": 26,
   "metadata": {},
   "outputs": [
    {
     "data": {
      "text/plain": [
       "['A',\n",
       " 'B',\n",
       " 'C',\n",
       " 'D',\n",
       " 'E',\n",
       " 'F',\n",
       " 'G',\n",
       " 'H',\n",
       " 'I',\n",
       " 'J',\n",
       " 'K',\n",
       " 'L',\n",
       " 'M',\n",
       " 'N',\n",
       " 'O',\n",
       " 'P',\n",
       " 'Q',\n",
       " 'R',\n",
       " 'S',\n",
       " 'T',\n",
       " 'U',\n",
       " 'V',\n",
       " 'W',\n",
       " 'X',\n",
       " 'Y',\n",
       " 'Z',\n",
       " 'a',\n",
       " 'b',\n",
       " 'd',\n",
       " 'e',\n",
       " 'f',\n",
       " 'g',\n",
       " 'h',\n",
       " 'n',\n",
       " 'q',\n",
       " 'r',\n",
       " 't']"
      ]
     },
     "execution_count": 26,
     "metadata": {},
     "output_type": "execute_result"
    }
   ],
   "source": [
    "letters"
   ]
  },
  {
   "cell_type": "code",
   "execution_count": 25,
   "metadata": {},
   "outputs": [],
   "source": [
    "for i in letters[:13]:\n",
    "    os.mkdir(f'../data/{i}')\n"
   ]
  },
  {
   "cell_type": "code",
   "execution_count": 28,
   "metadata": {},
   "outputs": [],
   "source": [
    "for i, char in enumerate(letters[:13]):\n",
    "    for idx, font_name in enumerate(selected_paths):\n",
    "        try:\n",
    "            fnt = ImageFont.truetype(selected_paths[idx], 100)\n",
    "            img = Image.new('RGB', (300, 200), color = 'white')\n",
    "            d = ImageDraw.Draw(img)\n",
    "            d.text((125,20), letters[i], font=fnt, fill=(0,0,0))\n",
    "#             plt.figure(figsize=(20,20))\n",
    "#             plt.imshow(img)\n",
    "            temp = font_name.split(\"/\")[-1].split(\".\")[0]\n",
    "            img.save(f'../data/{char}/{temp}.png')\n",
    "        except:\n",
    "            pass"
   ]
  },
  {
   "cell_type": "code",
   "execution_count": 33,
   "metadata": {},
   "outputs": [
    {
     "data": {
      "text/plain": [
       "['../data/fonts/MattsHandwriting.ttf',\n",
       " '../data/fonts/Megaink.ttf',\n",
       " '../data/fonts/Aspargo.ttf',\n",
       " '../data/fonts/michellehandwritting.ttf',\n",
       " '../data/fonts/Sareeka-demo.ttf',\n",
       " '../data/fonts/ONEFINGER_CRE.ttf',\n",
       " '../data/fonts/KBReallyDnealie.ttf',\n",
       " '../data/fonts/DjuiceWriting.ttf',\n",
       " '../data/fonts/Quirking.ttf',\n",
       " '../data/fonts/Rose Colored.ttf',\n",
       " '../data/fonts/inkworms.ttf',\n",
       " '../data/fonts/dali____.ttf',\n",
       " '../data/fonts/Scoder Refined.ttf',\n",
       " '../data/fonts/TheHundredClub.ttf',\n",
       " '../data/fonts/Glitter Script.ttf',\n",
       " '../data/fonts/JackieKCursive.ttf',\n",
       " '../data/fonts/LauraClaire.ttf',\n",
       " '../data/fonts/RoughNotesSample.ttf',\n",
       " '../data/fonts/School_Writing.ttf',\n",
       " '../data/fonts/MTF Gavin.ttf',\n",
       " '../data/fonts/handzpyd-demo.ttf',\n",
       " '../data/fonts/B-de-bonita.ttf',\n",
       " '../data/fonts/velocity_demo.ttf',\n",
       " '../data/fonts/AFE_Jen_Bold.ttf',\n",
       " '../data/fonts/Valairya personal use.ttf',\n",
       " '../data/fonts/Entopia(Demo).ttf',\n",
       " '../data/fonts/Funky punky.ttf',\n",
       " '../data/fonts/Apalu.ttf',\n",
       " '../data/fonts/Billys_Hand_Thin.ttf',\n",
       " '../data/fonts/Gabby.ttf',\n",
       " '../data/fonts/Love & Trust.ttf',\n",
       " '../data/fonts/DaintyDaisies.ttf',\n",
       " '../data/fonts/Lsmimrdr.ttf',\n",
       " '../data/fonts/Singularity.ttf',\n",
       " '../data/fonts/KDG.ttf',\n",
       " '../data/fonts/TheJacklyn.ttf',\n",
       " '../data/fonts/Pigeon_scribble.ttf',\n",
       " '../data/fonts/Elo Hand.ttf',\n",
       " '../data/fonts/Notera2Medium_PERSONAL.ttf',\n",
       " '../data/fonts/An_Original_Font_By_Davi.ttf',\n",
       " '../data/fonts/GreatSpringtime.ttf',\n",
       " '../data/fonts/DaveyHand.ttf',\n",
       " '../data/fonts/Hartford Demo.ttf',\n",
       " '../data/fonts/Joshe Original.ttf',\n",
       " '../data/fonts/BehindtheMirror.ttf',\n",
       " '../data/fonts/dill pickles.ttf',\n",
       " '../data/fonts/Black Hawk.ttf',\n",
       " '../data/fonts/WorkThatWednesday.ttf',\n",
       " '../data/fonts/sedna.ttf',\n",
       " '../data/fonts/ShookenDemo.ttf',\n",
       " '../data/fonts/lazy writer.ttf',\n",
       " '../data/fonts/Enchanted Castle.ttf',\n",
       " '../data/fonts/gabiie_s handwritting.ttf',\n",
       " '../data/fonts/Flamingo 54.ttf',\n",
       " '../data/fonts/Lalex.ttf',\n",
       " '../data/fonts/morado felt.ttf',\n",
       " '../data/fonts/Jack Ripper Hand.ttf',\n",
       " '../data/fonts/frightnight.ttf',\n",
       " '../data/fonts/Dhanikans Signature Italic_dafont.ttf',\n",
       " '../data/fonts/Congrats Script - TTF.ttf',\n",
       " '../data/fonts/Serenity Demo.ttf',\n",
       " '../data/fonts/ADAMSFONT.ttf',\n",
       " '../data/fonts/lollipop.ttf',\n",
       " '../data/fonts/Conrad-Regular.ttf',\n",
       " '../data/fonts/!PaulMaul.ttf',\n",
       " '../data/fonts/Easy November.ttf',\n",
       " '../data/fonts/VadimsWriting.ttf',\n",
       " '../data/fonts/MaxsDreamland.ttf',\n",
       " '../data/fonts/Hamline demo.ttf',\n",
       " '../data/fonts/Lewis hand semibold.ttf',\n",
       " '../data/fonts/Aesthetik Script DEMO.ttf',\n",
       " '../data/fonts/GaelleingFont.ttf',\n",
       " '../data/fonts/Madeleine-Demo.ttf',\n",
       " '../data/fonts/ApplauseFont.ttf',\n",
       " '../data/fonts/Fairyland Demo Font.ttf',\n",
       " '../data/fonts/Jellofont.ttf',\n",
       " '../data/fonts/Crunchy_PERSONAL_USE_ONLY.ttf',\n",
       " '../data/fonts/angelib.ttf',\n",
       " '../data/fonts/KubaReczny_1.ttf',\n",
       " '../data/fonts/A Glitch In Time.ttf',\n",
       " '../data/fonts/ToralfontClassic.ttf',\n",
       " '../data/fonts/Suji.ttf',\n",
       " '../data/fonts/daddysgirl.ttf',\n",
       " '../data/fonts/PRIMAHANDWRITE.ttf',\n",
       " '../data/fonts/Simply Glamorous.ttf',\n",
       " '../data/fonts/IndigoRacers.ttf',\n",
       " '../data/fonts/mightyroping.ttf',\n",
       " '../data/fonts/dearJoe 6 TRIAL.ttf',\n",
       " '../data/fonts/ForefarmersDEMO.ttf',\n",
       " '../data/fonts/CollectionOfJays.ttf',\n",
       " '../data/fonts/me handwritin Thin.ttf',\n",
       " '../data/fonts/Sweet Home Oklahoma.ttf',\n",
       " '../data/fonts/maya.ttf',\n",
       " '../data/fonts/DJB Heart Attack 2.ttf',\n",
       " '../data/fonts/my derp handwriting.ttf',\n",
       " '../data/fonts/inkpen_scribble.ttf',\n",
       " '../data/fonts/SunnySpring.ttf',\n",
       " '../data/fonts/OrangeCounty.ttf',\n",
       " '../data/fonts/Danger Zone.ttf',\n",
       " '../data/fonts/Crumble Demo.ttf',\n",
       " '../data/fonts/MTF Colleen Cursive.ttf',\n",
       " '../data/fonts/andyallshort.ttf',\n",
       " '../data/fonts/cheddar jack.ttf',\n",
       " '../data/fonts/Foxes In Love.ttf',\n",
       " '../data/fonts/de Manu 1  MediumItalic.ttf',\n",
       " '../data/fonts/demoi.ttf',\n",
       " '../data/fonts/Easy Going - Demo.ttf',\n",
       " '../data/fonts/Hesster Mofet CLEAN_TRIAL.ttf',\n",
       " '../data/fonts/Onceuponatime.ttf',\n",
       " '../data/fonts/StormysFontNarrow.ttf',\n",
       " '../data/fonts/Blueberry Oatmeal Regular.ttf',\n",
       " '../data/fonts/Joshua.ttf',\n",
       " '../data/fonts/Glass_Hand.ttf',\n",
       " '../data/fonts/Paresh.ttf',\n",
       " '../data/fonts/RoseDiFont.ttf',\n",
       " '../data/fonts/HayleysFont.ttf',\n",
       " '../data/fonts/GeorgesNotes.ttf',\n",
       " '../data/fonts/SkinnyBitch.ttf',\n",
       " '../data/fonts/Sucked_Dry.ttf',\n",
       " '../data/fonts/Nohubotiempo.ttf',\n",
       " '../data/fonts/MTF drgnldy.ttf',\n",
       " '../data/fonts/seriously.ttf',\n",
       " '../data/fonts/ChildsWish.ttf',\n",
       " '../data/fonts/BEERNOTE trial.ttf',\n",
       " '../data/fonts/factory worker.ttf',\n",
       " '../data/fonts/Wonderful.ttf',\n",
       " '../data/fonts/TwerkingNasty.ttf',\n",
       " '../data/fonts/coffeyto.ttf',\n",
       " '../data/fonts/MTF Hooty Coo.ttf',\n",
       " '../data/fonts/Easy Speech_free.ttf',\n",
       " '../data/fonts/Dinosaur.ttf',\n",
       " '../data/fonts/MTF Lexi.ttf',\n",
       " '../data/fonts/OrenScript.ttf',\n",
       " '../data/fonts/JJWEB2.ttf',\n",
       " '../data/fonts/ginolib_.ttf',\n",
       " '../data/fonts/Blank Eye.ttf',\n",
       " '../data/fonts/adam handwriting test.ttf',\n",
       " '../data/fonts/SneakerHunting.ttf',\n",
       " '../data/fonts/SeasonFourteen.ttf',\n",
       " '../data/fonts/OvertheRainbow.ttf',\n",
       " '../data/fonts/BEDSA.ttf',\n",
       " '../data/fonts/Wolframia.ttf',\n",
       " '../data/fonts/our lil secret forever.ttf',\n",
       " '../data/fonts/A Perfect Place - TTF.ttf',\n",
       " '../data/fonts/Soljik-Dambaek.ttf',\n",
       " '../data/fonts/MisterSpicyDos.ttf',\n",
       " '../data/fonts/Billenia Standard.ttf',\n",
       " '../data/fonts/Stroketastic.ttf',\n",
       " '../data/fonts/ShimesOne_PERSONAL.ttf',\n",
       " '../data/fonts/trav2.ttf',\n",
       " '../data/fonts/GatewayDrug.ttf',\n",
       " '../data/fonts/HoneyScript-SemiBold.ttf',\n",
       " '../data/fonts/Fall is Coming - TTF.ttf',\n",
       " '../data/fonts/Vtks Rash.ttf',\n",
       " '../data/fonts/Budhayanti script.ttf',\n",
       " '../data/fonts/Victoria.ttf',\n",
       " '../data/fonts/debhandwriting.ttf',\n",
       " '../data/fonts/Hello Bunda Demo.ttf',\n",
       " '../data/fonts/MulticolorAgilitys.ttf',\n",
       " '../data/fonts/Lennon.ttf',\n",
       " '../data/fonts/Large_Handwriting.ttf',\n",
       " '../data/fonts/Jovanka demo.ttf',\n",
       " '../data/fonts/HelloPoolNoodle.ttf',\n",
       " '../data/fonts/BeachScript-Regular.ttf',\n",
       " '../data/fonts/Firdaus.ttf',\n",
       " '../data/fonts/Signerella.ttf',\n",
       " '../data/fonts/Kathleen.ttf',\n",
       " '../data/fonts/daniel.ttf',\n",
       " '../data/fonts/Jenny Hand.ttf',\n",
       " '../data/fonts/Lara Prints.ttf',\n",
       " '../data/fonts/Guys My Age - TTF.ttf',\n",
       " '../data/fonts/asdf.ttf',\n",
       " '../data/fonts/paradise.ttf',\n",
       " '../data/fonts/James_Fajardo.ttf',\n",
       " '../data/fonts/MagicPens.ttf',\n",
       " '../data/fonts/vtks show.ttf',\n",
       " '../data/fonts/n_Bernard.ttf',\n",
       " '../data/fonts/Platly.ttf',\n",
       " '../data/fonts/Burston.ttf',\n",
       " '../data/fonts/Dancing in the Beat.ttf',\n",
       " '../data/fonts/Sandat.ttf',\n",
       " '../data/fonts/Lindberg_hand_and_symbols.ttf',\n",
       " '../data/fonts/boldLOUD.ttf',\n",
       " '../data/fonts/Biloxi Thin.ttf',\n",
       " '../data/fonts/CandyDelish.ttf',\n",
       " '../data/fonts/AniLazyDay.ttf',\n",
       " '../data/fonts/stripedsunshine.ttf',\n",
       " '../data/fonts/SamDam.ttf',\n",
       " '../data/fonts/JetskisInSummer.ttf',\n",
       " '../data/fonts/Guayaquil1800.ttf',\n",
       " '../data/fonts/Pumpkins Personal Use.ttf',\n",
       " '../data/fonts/iwfxv02.ttf',\n",
       " '../data/fonts/VTC JoeleneHand Bold Italic.ttf',\n",
       " '../data/fonts/Maya_s_Script.ttf',\n",
       " '../data/fonts/Beneath_the_floorboards.ttf',\n",
       " '../data/fonts/Chloe s handwriting.ttf',\n",
       " '../data/fonts/A Gentle Touch.ttf',\n",
       " '../data/fonts/bonbon.ttf',\n",
       " '../data/fonts/Hello Beauty Personal Use.ttf',\n",
       " '../data/fonts/Sweet-Yell.ttf',\n",
       " '../data/fonts/MaryKate.ttf',\n",
       " '../data/fonts/HelloCake.ttf',\n",
       " '../data/fonts/BeautifulEveryTime.ttf',\n",
       " '../data/fonts/Bold Curse.ttf',\n",
       " '../data/fonts/phandv2.ttf',\n",
       " '../data/fonts/SkitserFineliner.ttf',\n",
       " '../data/fonts/DJB Annalise the Brave.ttf',\n",
       " '../data/fonts/madman.ttf',\n",
       " '../data/fonts/Hand Of TT.ttf',\n",
       " '../data/fonts/Shout.ttf',\n",
       " '../data/fonts/AbigailScriptDemo-Regular.ttf',\n",
       " '../data/fonts/Hand of Joe.ttf',\n",
       " '../data/fonts/Radeshia.ttf',\n",
       " '../data/fonts/dusty_matchbox.ttf',\n",
       " '../data/fonts/picablo fentier.ttf',\n",
       " '../data/fonts/20 cents marker.ttf',\n",
       " '../data/fonts/RubenKoops.ttf',\n",
       " '../data/fonts/ItsNotMonday.ttf',\n",
       " '../data/fonts/Nathaniel.ttf',\n",
       " '../data/fonts/something blue light.ttf',\n",
       " '../data/fonts/alfa deta demo.ttf',\n",
       " '../data/fonts/Eternal Fascination.ttf',\n",
       " '../data/fonts/PWFine.ttf',\n",
       " '../data/fonts/EkologieHand_PERSONAL_USE_ONLY.ttf',\n",
       " '../data/fonts/HZHandwrite.ttf',\n",
       " '../data/fonts/SaraScribbles.ttf',\n",
       " '../data/fonts/Taylor Swift Handwriting.ttf',\n",
       " '../data/fonts/Indesign Signature - PERSONAL USE.ttf',\n",
       " '../data/fonts/AlveFont.ttf',\n",
       " '../data/fonts/Chocolatines.ttf',\n",
       " '../data/fonts/SafariColorway.ttf',\n",
       " '../data/fonts/Muurahaiskarhu.ttf',\n",
       " '../data/fonts/Grinty-FREE.ttf',\n",
       " '../data/fonts/ShelbyCursive.ttf',\n",
       " '../data/fonts/WinebytheGlass.ttf',\n",
       " '../data/fonts/KGSatisfiedScript.ttf',\n",
       " '../data/fonts/laila ali.ttf',\n",
       " '../data/fonts/Owen_Hand.ttf',\n",
       " '../data/fonts/DESYREL_.ttf',\n",
       " '../data/fonts/ElAngeliuXx.ttf',\n",
       " '../data/fonts/CrappyPeanuts.ttf',\n",
       " '../data/fonts/CurlyLetters.ttf',\n",
       " '../data/fonts/I Love Glitter - TTF.ttf',\n",
       " '../data/fonts/DreamCatcher.ttf',\n",
       " '../data/fonts/merrichrisi.ttf',\n",
       " '../data/fonts/PWOblique.ttf',\n",
       " '../data/fonts/Special Touch - Demo.ttf',\n",
       " '../data/fonts/SawasHand.ttf',\n",
       " '../data/fonts/dustin_scribble.ttf',\n",
       " '../data/fonts/Madison.ttf',\n",
       " '../data/fonts/JimbosPrint-Bold-Italic.ttf',\n",
       " '../data/fonts/OhHello.ttf',\n",
       " '../data/fonts/Bernard.ttf',\n",
       " '../data/fonts/LUCY-LU, TOO.ttf',\n",
       " '../data/fonts/ReaganaldScript.ttf',\n",
       " '../data/fonts/DJB Tweenybopper.ttf',\n",
       " '../data/fonts/CONTENG MARKER.ttf',\n",
       " '../data/fonts/Ashalina Demo.ttf',\n",
       " '../data/fonts/DJB Got No Time For That.ttf',\n",
       " '../data/fonts/Bigmcn__.ttf',\n",
       " '../data/fonts/MiloScript.ttf',\n",
       " '../data/fonts/Sybelia Demo.ttf',\n",
       " '../data/fonts/Mi_nombre_es_Problema.ttf',\n",
       " '../data/fonts/kellilynn.ttf',\n",
       " '../data/fonts/KristalyPersonalUse.ttf',\n",
       " '../data/fonts/My_Unprofessional_Handwriting.ttf',\n",
       " '../data/fonts/Lalaland.ttf',\n",
       " '../data/fonts/JaspersHandwriting-Regular.ttf',\n",
       " '../data/fonts/pencilCASE.ttf',\n",
       " '../data/fonts/Manus_Smooth_TRIAL.ttf',\n",
       " '../data/fonts/CuteTumblrFont.ttf',\n",
       " '../data/fonts/Jenthill DEMO.ttf',\n",
       " '../data/fonts/Fantica Demo.ttf',\n",
       " '../data/fonts/RipeDusk.ttf',\n",
       " '../data/fonts/michelle digital handwritten.ttf',\n",
       " '../data/fonts/chai.ttf',\n",
       " '../data/fonts/AFE_Jen.ttf',\n",
       " '../data/fonts/Morsal.ttf',\n",
       " '../data/fonts/Daisy.ttf',\n",
       " '../data/fonts/kafka.ttf',\n",
       " '../data/fonts/Isabelle.ttf',\n",
       " '../data/fonts/Simple Signature - TTF.ttf',\n",
       " '../data/fonts/Breakout.ttf',\n",
       " '../data/fonts/Lighthouse.ttf',\n",
       " '../data/fonts/Aspades-Regular.ttf',\n",
       " '../data/fonts/SelenesHandwriting1.ttf',\n",
       " '../data/fonts/DJB About a Boy.ttf',\n",
       " '../data/fonts/Bradford.ttf',\n",
       " '../data/fonts/MouseHandwriting.ttf',\n",
       " '../data/fonts/youfoundme.ttf',\n",
       " '../data/fonts/Jennifers Hand Writing.ttf',\n",
       " '../data/fonts/MRF funkyfresh.ttf',\n",
       " '../data/fonts/Biloxi Script.ttf',\n",
       " '../data/fonts/Handwritingfont.ttf',\n",
       " '../data/fonts/BigHonk handwriting.ttf',\n",
       " '../data/fonts/Debrie_Bold.ttf',\n",
       " '../data/fonts/Snow White.ttf',\n",
       " '../data/fonts/Bean Beany.ttf',\n",
       " '../data/fonts/As Cute As.ttf',\n",
       " '../data/fonts/SF Scribbled Sans SC Italic.ttf',\n",
       " '../data/fonts/Catriona.ttf',\n",
       " '../data/fonts/GAELLEnumber8.ttf',\n",
       " '../data/fonts/popstarAutograph.ttf',\n",
       " '../data/fonts/ByTheButterfly.ttf',\n",
       " '../data/fonts/Austie Bost Marketplace.ttf',\n",
       " '../data/fonts/MTF Krystyna.ttf',\n",
       " '../data/fonts/Hanabi.ttf',\n",
       " '../data/fonts/Malaya.ttf',\n",
       " '../data/fonts/Ginger.ttf',\n",
       " '../data/fonts/AlphaMacAOE.ttf',\n",
       " '../data/fonts/Lauvik.ttf',\n",
       " '../data/fonts/Lavalamp.ttf',\n",
       " '../data/fonts/BlackMambaDg.ttf',\n",
       " '../data/fonts/ZuleScript.ttf',\n",
       " '../data/fonts/DJB SLOPPYJO.ttf',\n",
       " '../data/fonts/SumateraRegular.ttf',\n",
       " '../data/fonts/DancingintheMinefields.ttf',\n",
       " '../data/fonts/Larquette Typeface.ttf',\n",
       " '../data/fonts/McKenna Light.ttf',\n",
       " '../data/fonts/MegsHand.ttf',\n",
       " '../data/fonts/TOMATOES Personal Use.ttf',\n",
       " '../data/fonts/LandslideSample.ttf',\n",
       " '../data/fonts/syera inline.ttf',\n",
       " '../data/fonts/Homerun Demo.ttf',\n",
       " '../data/fonts/StrikeAPose.ttf',\n",
       " '../data/fonts/Quintus_R_trial.ttf',\n",
       " '../data/fonts/IYSNobodysPerfect.ttf',\n",
       " '../data/fonts/vastorga bold.ttf',\n",
       " '../data/fonts/North City.ttf',\n",
       " '../data/fonts/Daniel_Sans.ttf',\n",
       " '../data/fonts/SlipstreamSweetheart.ttf',\n",
       " '../data/fonts/Asfrogas.ttf',\n",
       " '../data/fonts/toms handwritten new.ttf',\n",
       " '../data/fonts/Sonny_Moore.ttf',\n",
       " '../data/fonts/MH_Font.ttf',\n",
       " '../data/fonts/DJB Heart Attack.ttf',\n",
       " '../data/fonts/HelloPlayground.ttf',\n",
       " '../data/fonts/Lie to Me - TTF.ttf',\n",
       " '../data/fonts/IndieFlower.ttf',\n",
       " '../data/fonts/SamHandwriting.ttf',\n",
       " '../data/fonts/RobinScript.ttf',\n",
       " '../data/fonts/Marleen Script Normal reduced.ttf',\n",
       " '../data/fonts/WyllamDemo.ttf',\n",
       " '../data/fonts/La Belle Aurore.ttf',\n",
       " '../data/fonts/KBGrandeur.ttf',\n",
       " '../data/fonts/ChicFontastic.ttf',\n",
       " '../data/fonts/CurlyGirl.ttf',\n",
       " '../data/fonts/Meli Brush.ttf',\n",
       " '../data/fonts/SkitserMarker.ttf',\n",
       " '../data/fonts/FantasticSunset.ttf',\n",
       " '../data/fonts/Tell us, Pangaia.ttf',\n",
       " '../data/fonts/signarita_louisse_light.ttf',\n",
       " '../data/fonts/Kindergarten.ttf',\n",
       " '../data/fonts/Prestige Signature Script - Demo.ttf',\n",
       " '../data/fonts/morado nib.ttf',\n",
       " '../data/fonts/Befindisa.ttf',\n",
       " '../data/fonts/DJB The Font that is Liz.ttf',\n",
       " '../data/fonts/koly-Handwriting.ttf',\n",
       " '../data/fonts/calligrafia sara.ttf',\n",
       " '../data/fonts/AvailableReservation.ttf',\n",
       " '../data/fonts/Almairah 01.ttf',\n",
       " '../data/fonts/LiterallyHandwriting.ttf',\n",
       " '../data/fonts/You Me And Coffee.ttf']"
      ]
     },
     "execution_count": 33,
     "metadata": {},
     "output_type": "execute_result"
    }
   ],
   "source": [
    "selected_paths"
   ]
  },
  {
   "cell_type": "code",
   "execution_count": 43,
   "metadata": {},
   "outputs": [],
   "source": [
    "pushed_top = '../data/B/RoseDiFont.png'"
   ]
  },
  {
   "cell_type": "code",
   "execution_count": 44,
   "metadata": {},
   "outputs": [],
   "source": [
    "too_small =  '../data/B/MagicPens.png'"
   ]
  },
  {
   "cell_type": "code",
   "execution_count": 45,
   "metadata": {},
   "outputs": [],
   "source": [
    "pushed_right = '../data/B/Dhanikans Signature Italic_dafont.png'"
   ]
  },
  {
   "cell_type": "code",
   "execution_count": 46,
   "metadata": {},
   "outputs": [],
   "source": [
    "pushed_bottom = '../data/C/Indesign Signature - PERSONAL USE.png'"
   ]
  },
  {
   "cell_type": "code",
   "execution_count": 47,
   "metadata": {},
   "outputs": [],
   "source": [
    "blank = '../data/C/MTF Hooty Coo.png'"
   ]
  },
  {
   "cell_type": "code",
   "execution_count": 48,
   "metadata": {},
   "outputs": [],
   "source": [
    "too_big = '../data/D/Hanabi.png'"
   ]
  },
  {
   "cell_type": "code",
   "execution_count": 49,
   "metadata": {},
   "outputs": [],
   "source": [
    "img = Image.open(pushed_top)"
   ]
  },
  {
   "cell_type": "code",
   "execution_count": 50,
   "metadata": {},
   "outputs": [
    {
     "data": {
      "text/plain": [
       "<matplotlib.image.AxesImage at 0x7f4d6678a4e0>"
      ]
     },
     "execution_count": 50,
     "metadata": {},
     "output_type": "execute_result"
    },
    {
     "data": {
      "image/png": "[encoded data removed]",
      "text/plain": [
       "<Figure size 432x288 with 1 Axes>"
      ]
     },
     "metadata": {},
     "output_type": "display_data"
    }
   ],
   "source": [
    "plt.imshow(img)"
   ]
  },
  {
   "cell_type": "code",
   "execution_count": 53,
   "metadata": {},
   "outputs": [],
   "source": [
    "\n",
    "import numpy as np"
   ]
  },
  {
   "cell_type": "code",
   "execution_count": 54,
   "metadata": {},
   "outputs": [],
   "source": [
    "pxl = np.array(img)"
   ]
  },
  {
   "cell_type": "code",
   "execution_count": 56,
   "metadata": {},
   "outputs": [],
   "source": [
    "pxl = rgb2gray(pxl)"
   ]
  },
  {
   "cell_type": "code",
   "execution_count": 57,
   "metadata": {},
   "outputs": [
    {
     "data": {
      "text/plain": [
       "(200, 300)"
      ]
     },
     "execution_count": 57,
     "metadata": {},
     "output_type": "execute_result"
    }
   ],
   "source": [
    "pxl.shape"
   ]
  },
  {
   "cell_type": "code",
   "execution_count": 61,
   "metadata": {},
   "outputs": [
    {
     "data": {
      "text/plain": [
       "<matplotlib.image.AxesImage at 0x7f4d667f2358>"
      ]
     },
     "execution_count": 61,
     "metadata": {},
     "output_type": "execute_result"
    },
    {
     "data": {
      "image/png": "[encoded data removed]",
      "text/plain": [
       "<Figure size 432x288 with 1 Axes>"
      ]
     },
     "metadata": {},
     "output_type": "display_data"
    }
   ],
   "source": [
    "plt.imshow(pxl,'gray')"
   ]
  },
  {
   "cell_type": "code",
   "execution_count": 59,
   "metadata": {},
   "outputs": [
    {
     "data": {
      "text/plain": [
       "array([[255., 255., 255., ..., 255., 255., 255.],\n",
       "       [255., 255., 255., ..., 255., 255., 255.],\n",
       "       [255., 255., 255., ..., 255., 255., 255.],\n",
       "       ...,\n",
       "       [255., 255., 255., ..., 255., 255., 255.],\n",
       "       [255., 255., 255., ..., 255., 255., 255.],\n",
       "       [255., 255., 255., ..., 255., 255., 255.]])"
      ]
     },
     "execution_count": 59,
     "metadata": {},
     "output_type": "execute_result"
    }
   ],
   "source": [
    "pxl"
   ]
  },
  {
   "cell_type": "code",
   "execution_count": 60,
   "metadata": {},
   "outputs": [
    {
     "data": {
      "text/plain": [
       "array([  0.,   1.,   2.,   3.,   4.,   5.,   6.,   7.,   8.,   9.,  10.,\n",
       "        11.,  12.,  13.,  14.,  15.,  16.,  17.,  18.,  19.,  20.,  21.,\n",
       "        22.,  24.,  25.,  26.,  27.,  28.,  29.,  30.,  31.,  32.,  33.,\n",
       "        35.,  36.,  37.,  38.,  39.,  40.,  41.,  42.,  44.,  45.,  47.,\n",
       "        48.,  49.,  50.,  52.,  53.,  54.,  55.,  56.,  57.,  58.,  59.,\n",
       "        60.,  61.,  63.,  64.,  65.,  66.,  67.,  68.,  69.,  70.,  71.,\n",
       "        72.,  74.,  75.,  76.,  77.,  78.,  79.,  80.,  81.,  82.,  83.,\n",
       "        86.,  87.,  88.,  89.,  90.,  91.,  92.,  93.,  94.,  96.,  98.,\n",
       "        99., 100., 102., 103., 105., 106., 107., 109., 110., 111., 112.,\n",
       "       113., 115., 116., 117., 118., 119., 120., 123., 126., 127., 128.,\n",
       "       129., 130., 131., 132., 133., 135., 136., 137., 138., 139., 140.,\n",
       "       141., 142., 145., 146., 147., 148., 149., 150., 153., 154., 155.,\n",
       "       156., 157., 158., 162., 164., 165., 167., 168., 169., 170., 171.,\n",
       "       174., 175., 176., 177., 178., 180., 183., 184., 186., 188., 189.,\n",
       "       190., 191., 192., 193., 195., 197., 199., 200., 201., 202., 203.,\n",
       "       204., 205., 206., 207., 208., 209., 210., 211., 212., 213., 214.,\n",
       "       215., 216., 217., 218., 221., 222., 223., 224., 225., 226., 228.,\n",
       "       230., 231., 232., 233., 234., 235., 236., 237., 238., 241., 243.,\n",
       "       244., 245., 246., 247., 249., 250., 251., 252., 253., 254., 255.])"
      ]
     },
     "execution_count": 60,
     "metadata": {},
     "output_type": "execute_result"
    }
   ],
   "source": [
    "np.unique(pxl)"
   ]
  },
  {
   "cell_type": "code",
   "execution_count": null,
   "metadata": {},
   "outputs": [],
   "source": []
  },
  {
   "cell_type": "code",
   "execution_count": 76,
   "metadata": {},
   "outputs": [],
   "source": [
    "bools = np.where(pxl==255, True, False)"
   ]
  },
  {
   "cell_type": "code",
   "execution_count": 97,
   "metadata": {},
   "outputs": [],
   "source": [
    "#finding the top\n",
    "top = np.where(bools == False)[0].min()"
   ]
  },
  {
   "cell_type": "code",
   "execution_count": 98,
   "metadata": {},
   "outputs": [],
   "source": [
    "#finding the left edge\n",
    "left = np.where(bools==False)[1].min()"
   ]
  },
  {
   "cell_type": "code",
   "execution_count": 100,
   "metadata": {},
   "outputs": [],
   "source": [
    "#finding the bottom\n",
    "bottom = np.where(bools==False)[0].max()"
   ]
  },
  {
   "cell_type": "code",
   "execution_count": 101,
   "metadata": {},
   "outputs": [],
   "source": [
    "#finding the right\n",
    "right = np.where(bools==False)[1].max()"
   ]
  },
  {
   "cell_type": "code",
   "execution_count": 104,
   "metadata": {},
   "outputs": [
    {
     "data": {
      "text/plain": [
       "<matplotlib.image.AxesImage at 0x7f4d65e46160>"
      ]
     },
     "execution_count": 104,
     "metadata": {},
     "output_type": "execute_result"
    },
    {
     "data": {
      "image/png": "[encoded data removed]",
      "text/plain": [
       "<Figure size 432x288 with 1 Axes>"
      ]
     },
     "metadata": {},
     "output_type": "display_data"
    }
   ],
   "source": [
    "plt.imshow(pxl)"
   ]
  },
  {
   "cell_type": "code",
   "execution_count": 103,
   "metadata": {},
   "outputs": [
    {
     "name": "stdout",
     "output_type": "stream",
     "text": [
      "28\n",
      "130\n",
      "97\n",
      "179\n"
     ]
    }
   ],
   "source": [
    "print(top)\n",
    "print(left)\n",
    "print(bottom)\n",
    "print(right)"
   ]
  },
  {
   "cell_type": "code",
   "execution_count": 113,
   "metadata": {},
   "outputs": [],
   "source": [
    "horizontal_center = (bottom + top)/2.0"
   ]
  },
  {
   "cell_type": "code",
   "execution_count": 114,
   "metadata": {},
   "outputs": [],
   "source": [
    "vertical_center = (left + right)/2.0"
   ]
  },
  {
   "cell_type": "code",
   "execution_count": 117,
   "metadata": {},
   "outputs": [],
   "source": [
    "from numpy.linalg import norm"
   ]
  },
  {
   "cell_type": "code",
   "execution_count": null,
   "metadata": {},
   "outputs": [],
   "source": []
  },
  {
   "cell_type": "code",
   "execution_count": 109,
   "metadata": {},
   "outputs": [
    {
     "data": {
      "text/plain": [
       "(200, 300)"
      ]
     },
     "execution_count": 109,
     "metadata": {},
     "output_type": "execute_result"
    }
   ],
   "source": [
    "pxl.shape"
   ]
  },
  {
   "cell_type": "code",
   "execution_count": 116,
   "metadata": {},
   "outputs": [
    {
     "data": {
      "image/png": "[encoded data removed]",
      "text/plain": [
       "<Figure size 432x288 with 1 Axes>"
      ]
     },
     "metadata": {},
     "output_type": "display_data"
    }
   ],
   "source": [
    "implot = plt.imshow(pxl)\n",
    "plt.scatter([vertical_center,150], [horizontal_center,100])\n",
    "plt.show()"
   ]
  },
  {
   "cell_type": "code",
   "execution_count": 118,
   "metadata": {},
   "outputs": [
    {
     "data": {
      "text/plain": [
       "84.62860036654276"
      ]
     },
     "execution_count": 118,
     "metadata": {},
     "output_type": "execute_result"
    }
   ],
   "source": [
    "dx = (top-bottom)**2\n",
    "dy = (right-left)**2\n",
    "distance = np.sqrt(dx+dy)\n",
    "distance"
   ]
  },
  {
   "cell_type": "code",
   "execution_count": 62,
   "metadata": {},
   "outputs": [],
   "source": [
    "img_2 = Image.open(blank)"
   ]
  },
  {
   "cell_type": "code",
   "execution_count": 63,
   "metadata": {},
   "outputs": [],
   "source": [
    "img_2 = np.array(img_2)"
   ]
  },
  {
   "cell_type": "code",
   "execution_count": 64,
   "metadata": {},
   "outputs": [],
   "source": [
    "img_2 = rgb2gray(img_2)"
   ]
  },
  {
   "cell_type": "code",
   "execution_count": 69,
   "metadata": {},
   "outputs": [],
   "source": [
    "white = np.arange(245,256)"
   ]
  },
  {
   "cell_type": "code",
   "execution_count": 70,
   "metadata": {},
   "outputs": [
    {
     "data": {
      "text/plain": [
       "array([245, 246, 247, 248, 249, 250, 251, 252, 253, 254, 255])"
      ]
     },
     "execution_count": 70,
     "metadata": {},
     "output_type": "execute_result"
    }
   ],
   "source": [
    "white"
   ]
  },
  {
   "cell_type": "code",
   "execution_count": null,
   "metadata": {},
   "outputs": [],
   "source": []
  },
  {
   "cell_type": "code",
   "execution_count": 125,
   "metadata": {},
   "outputs": [],
   "source": [
    "def edge_finder(pxl):\n",
    "    edge_dict={}\n",
    "    bools = np.where(pxl==255, True, False)\n",
    "    edge_dict['top']=np.where(bools == False)[0].min()\n",
    "    edge_dict['left']= np.where(bools==False)[1].min()\n",
    "    edge_dict['bottom'] = np.where(bools==False)[0].max()\n",
    "    edge_dict['right'] = np.where(bools==False)[1].max()\n",
    "    \n",
    "    return edge_dict"
   ]
  },
  {
   "cell_type": "code",
   "execution_count": 126,
   "metadata": {},
   "outputs": [
    {
     "ename": "IndexError",
     "evalue": "tuple index out of range",
     "output_type": "error",
     "traceback": [
      "\u001b[0;31m---------------------------------------------------------------------------\u001b[0m",
      "\u001b[0;31mIndexError\u001b[0m                                Traceback (most recent call last)",
      "\u001b[0;32m<ipython-input-126-a212413701d3>\u001b[0m in \u001b[0;36m<module>\u001b[0;34m()\u001b[0m\n\u001b[0;32m----> 1\u001b[0;31m \u001b[0medge_dict\u001b[0m \u001b[0;34m=\u001b[0m \u001b[0medge_finder\u001b[0m\u001b[0;34m(\u001b[0m\u001b[0mimg\u001b[0m\u001b[0;34m)\u001b[0m\u001b[0;34m\u001b[0m\u001b[0m\n\u001b[0m\u001b[1;32m      2\u001b[0m \u001b[0mx1\u001b[0m \u001b[0;34m=\u001b[0m \u001b[0medge_dict\u001b[0m\u001b[0;34m[\u001b[0m\u001b[0;34m'top'\u001b[0m\u001b[0;34m]\u001b[0m\u001b[0;34m\u001b[0m\u001b[0m\n\u001b[1;32m      3\u001b[0m \u001b[0mx2\u001b[0m \u001b[0;34m=\u001b[0m \u001b[0medge_dict\u001b[0m\u001b[0;34m[\u001b[0m\u001b[0;34m'bottom'\u001b[0m\u001b[0;34m]\u001b[0m\u001b[0;34m\u001b[0m\u001b[0m\n\u001b[1;32m      4\u001b[0m \u001b[0my1\u001b[0m \u001b[0;34m=\u001b[0m \u001b[0medge_dict\u001b[0m\u001b[0;34m[\u001b[0m\u001b[0;34m'left'\u001b[0m\u001b[0;34m]\u001b[0m\u001b[0;34m\u001b[0m\u001b[0m\n\u001b[1;32m      5\u001b[0m \u001b[0my2\u001b[0m \u001b[0;34m=\u001b[0m \u001b[0medge_dict\u001b[0m\u001b[0;34m[\u001b[0m\u001b[0;34m'right'\u001b[0m\u001b[0;34m]\u001b[0m\u001b[0;34m\u001b[0m\u001b[0m\n",
      "\u001b[0;32m<ipython-input-125-fcd672bb5fca>\u001b[0m in \u001b[0;36medge_finder\u001b[0;34m(pxl)\u001b[0m\n\u001b[1;32m      3\u001b[0m     \u001b[0mbools\u001b[0m \u001b[0;34m=\u001b[0m \u001b[0mnp\u001b[0m\u001b[0;34m.\u001b[0m\u001b[0mwhere\u001b[0m\u001b[0;34m(\u001b[0m\u001b[0mpxl\u001b[0m\u001b[0;34m==\u001b[0m\u001b[0;36m255\u001b[0m\u001b[0;34m,\u001b[0m \u001b[0;32mTrue\u001b[0m\u001b[0;34m,\u001b[0m \u001b[0;32mFalse\u001b[0m\u001b[0;34m)\u001b[0m\u001b[0;34m\u001b[0m\u001b[0m\n\u001b[1;32m      4\u001b[0m     \u001b[0medge_dict\u001b[0m\u001b[0;34m[\u001b[0m\u001b[0;34m'top'\u001b[0m\u001b[0;34m]\u001b[0m\u001b[0;34m=\u001b[0m\u001b[0mnp\u001b[0m\u001b[0;34m.\u001b[0m\u001b[0mwhere\u001b[0m\u001b[0;34m(\u001b[0m\u001b[0mbools\u001b[0m \u001b[0;34m==\u001b[0m \u001b[0;32mFalse\u001b[0m\u001b[0;34m)\u001b[0m\u001b[0;34m[\u001b[0m\u001b[0;36m0\u001b[0m\u001b[0;34m]\u001b[0m\u001b[0;34m.\u001b[0m\u001b[0mmin\u001b[0m\u001b[0;34m(\u001b[0m\u001b[0;34m)\u001b[0m\u001b[0;34m\u001b[0m\u001b[0m\n\u001b[0;32m----> 5\u001b[0;31m     \u001b[0medge_dict\u001b[0m\u001b[0;34m[\u001b[0m\u001b[0;34m'left'\u001b[0m\u001b[0;34m]\u001b[0m\u001b[0;34m=\u001b[0m \u001b[0mnp\u001b[0m\u001b[0;34m.\u001b[0m\u001b[0mwhere\u001b[0m\u001b[0;34m(\u001b[0m\u001b[0mbools\u001b[0m\u001b[0;34m==\u001b[0m\u001b[0;32mFalse\u001b[0m\u001b[0;34m)\u001b[0m\u001b[0;34m[\u001b[0m\u001b[0;36m1\u001b[0m\u001b[0;34m]\u001b[0m\u001b[0;34m.\u001b[0m\u001b[0mmin\u001b[0m\u001b[0;34m(\u001b[0m\u001b[0;34m)\u001b[0m\u001b[0;34m\u001b[0m\u001b[0m\n\u001b[0m\u001b[1;32m      6\u001b[0m     \u001b[0medge_dict\u001b[0m\u001b[0;34m[\u001b[0m\u001b[0;34m'bottom'\u001b[0m\u001b[0;34m]\u001b[0m \u001b[0;34m=\u001b[0m \u001b[0mnp\u001b[0m\u001b[0;34m.\u001b[0m\u001b[0mwhere\u001b[0m\u001b[0;34m(\u001b[0m\u001b[0mbools\u001b[0m\u001b[0;34m==\u001b[0m\u001b[0;32mFalse\u001b[0m\u001b[0;34m)\u001b[0m\u001b[0;34m[\u001b[0m\u001b[0;36m0\u001b[0m\u001b[0;34m]\u001b[0m\u001b[0;34m.\u001b[0m\u001b[0mmax\u001b[0m\u001b[0;34m(\u001b[0m\u001b[0;34m)\u001b[0m\u001b[0;34m\u001b[0m\u001b[0m\n\u001b[1;32m      7\u001b[0m     \u001b[0medge_dict\u001b[0m\u001b[0;34m[\u001b[0m\u001b[0;34m'right'\u001b[0m\u001b[0;34m]\u001b[0m \u001b[0;34m=\u001b[0m \u001b[0mnp\u001b[0m\u001b[0;34m.\u001b[0m\u001b[0mwhere\u001b[0m\u001b[0;34m(\u001b[0m\u001b[0mbools\u001b[0m\u001b[0;34m==\u001b[0m\u001b[0;32mFalse\u001b[0m\u001b[0;34m)\u001b[0m\u001b[0;34m[\u001b[0m\u001b[0;36m1\u001b[0m\u001b[0;34m]\u001b[0m\u001b[0;34m.\u001b[0m\u001b[0mmax\u001b[0m\u001b[0;34m(\u001b[0m\u001b[0;34m)\u001b[0m\u001b[0;34m\u001b[0m\u001b[0m\n",
      "\u001b[0;31mIndexError\u001b[0m: tuple index out of range"
     ]
    }
   ],
   "source": [
    "edge_dict = edge_finder()\n",
    "x1 = edge_dict['top']\n",
    "x2 = edge_dict['bottom']\n",
    "y1 = edge_dict['left']\n",
    "y2 = edge_dict['right']"
   ]
  },
  {
   "cell_type": "code",
   "execution_count": null,
   "metadata": {},
   "outputs": [],
   "source": [
    "def center_check(x1,x2,y1,y2):\n",
    "    center_x = (x2+x1)/2.0\n",
    "    center_y = (y2+y1)/2.0\n",
    "    radius = np.sqrt( (center_x - 100)**2 + (center_y - 150)**2 )\n",
    "    if radius >=10:\n",
    "        x_shift = x_center - 100.0 #if x_shift is negative, then must be shifted down.\n",
    "        y_shift = 150.0 - y_center #if y_shift is negative, then must be shifted to the left\n",
    "        return x_shift, y_shift"
   ]
  },
  {
   "cell_type": "code",
   "execution_count": 156,
   "metadata": {},
   "outputs": [],
   "source": [
    "def size_check(x1,x2,y1,y2):\n",
    "    area = np.abs((x2 - x1) * (y2 - y1))\n",
    "    \n",
    "    if area > 13000: #or (area < 9600):\n",
    "        ratio = area / 9650.0\n",
    "#         x1,x2,y1,y2 = x1/ratio, x2/ratio, y1/ratio, y2/ratio\n",
    "#         return x1,x2,y1,y2\n",
    "        instruction = f'divide by {ratio}'\n",
    "        return instruction\n",
    "    elif area < 6300:\n",
    "        ratio = area / 9650.0\n",
    "#         x1,x2,y1,y2 = x1*ratio, x2*ratio, y1*ratio, y2*ratio\n",
    "#         return x1,x2,y1,y2\n",
    "        instruction = f'multiply by {ratio+1}'\n",
    "        return instruction\n"
   ]
  },
  {
   "cell_type": "code",
   "execution_count": 140,
   "metadata": {},
   "outputs": [
    {
     "data": {
      "text/plain": [
       "85.14693182963201"
      ]
     },
     "execution_count": 140,
     "metadata": {},
     "output_type": "execute_result"
    }
   ],
   "source": [
    "np.sqrt(16_900 - 9650)\n"
   ]
  },
  {
   "cell_type": "code",
   "execution_count": null,
   "metadata": {},
   "outputs": [],
   "source": []
  },
  {
   "cell_type": "code",
   "execution_count": null,
   "metadata": {},
   "outputs": [],
   "source": [
    "np.sq"
   ]
  },
  {
   "cell_type": "code",
   "execution_count": 127,
   "metadata": {},
   "outputs": [],
   "source": [
    "small_pic = Image.open(too_small)"
   ]
  },
  {
   "cell_type": "code",
   "execution_count": 129,
   "metadata": {},
   "outputs": [],
   "source": [
    "small_pic = np.array(small_pic)"
   ]
  },
  {
   "cell_type": "code",
   "execution_count": 130,
   "metadata": {},
   "outputs": [],
   "source": [
    "gray_small_pic = rgb2gray(small_pic)"
   ]
  },
  {
   "cell_type": "code",
   "execution_count": 131,
   "metadata": {},
   "outputs": [],
   "source": [
    "small_edge_dict = edge_finder(gray_small_pic)"
   ]
  },
  {
   "cell_type": "code",
   "execution_count": 153,
   "metadata": {},
   "outputs": [],
   "source": [
    "x1 = small_edge_dict['top']\n",
    "x2 = small_edge_dict['bottom']\n",
    "y1 = small_edge_dict['left']\n",
    "y2 = small_edge_dict['right']"
   ]
  },
  {
   "cell_type": "code",
   "execution_count": 134,
   "metadata": {},
   "outputs": [
    {
     "data": {
      "text/plain": [
       "<matplotlib.image.AxesImage at 0x7f4d65f0a710>"
      ]
     },
     "execution_count": 134,
     "metadata": {},
     "output_type": "execute_result"
    },
    {
     "data": {
      "image/png": "[encoded data removed]",
      "text/plain": [
       "<Figure size 432x288 with 1 Axes>"
      ]
     },
     "metadata": {},
     "output_type": "display_data"
    }
   ],
   "source": [
    "plt.imshow(gray_small_pic,'gray')"
   ]
  },
  {
   "cell_type": "code",
   "execution_count": 144,
   "metadata": {},
   "outputs": [
    {
     "data": {
      "text/plain": [
       "<matplotlib.image.AxesImage at 0x7f4d6666bdd8>"
      ]
     },
     "execution_count": 144,
     "metadata": {},
     "output_type": "execute_result"
    },
    {
     "data": {
      "image/png": "[encoded data removed]",
      "text/plain": [
       "<Figure size 432x288 with 1 Axes>"
      ]
     },
     "metadata": {},
     "output_type": "display_data"
    }
   ],
   "source": [
    "plt.imshow(gray_small_pic[x1:x2+1, y1:y2+1], 'gray')"
   ]
  },
  {
   "cell_type": "code",
   "execution_count": 157,
   "metadata": {},
   "outputs": [
    {
     "data": {
      "text/plain": [
       "'multiply by 1.1533678756476684'"
      ]
     },
     "execution_count": 157,
     "metadata": {},
     "output_type": "execute_result"
    }
   ],
   "source": [
    "size_check(x1,x2,y1,y2)"
   ]
  },
  {
   "cell_type": "code",
   "execution_count": 164,
   "metadata": {},
   "outputs": [],
   "source": [
    "x = x2-x1"
   ]
  },
  {
   "cell_type": "code",
   "execution_count": 165,
   "metadata": {},
   "outputs": [],
   "source": [
    "y = y2-y1"
   ]
  },
  {
   "cell_type": "code",
   "execution_count": 166,
   "metadata": {},
   "outputs": [
    {
     "data": {
      "text/plain": [
       "1480"
      ]
     },
     "execution_count": 166,
     "metadata": {},
     "output_type": "execute_result"
    }
   ],
   "source": [
    "x*y"
   ]
  },
  {
   "cell_type": "code",
   "execution_count": 123,
   "metadata": {},
   "outputs": [],
   "source": [
    "a = np.r_[[1, 3], [2, 4]].reshape(2,2)"
   ]
  },
  {
   "cell_type": "code",
   "execution_count": 124,
   "metadata": {},
   "outputs": [
    {
     "data": {
      "text/plain": [
       "array([[1, 3],\n",
       "       [2, 4]])"
      ]
     },
     "execution_count": 124,
     "metadata": {},
     "output_type": "execute_result"
    }
   ],
   "source": [
    "a"
   ]
  },
  {
   "cell_type": "code",
   "execution_count": null,
   "metadata": {},
   "outputs": [],
   "source": []
  }
 ],
 "metadata": {
  "kernelspec": {
   "display_name": "Python 3",
   "language": "python",
   "name": "python3"
  },
  "language_info": {
   "codemirror_mode": {
    "name": "ipython",
    "version": 3
   },
   "file_extension": ".py",
   "mimetype": "text/x-python",
   "name": "python",
   "nbconvert_exporter": "python",
   "pygments_lexer": "ipython3",
   "version": "3.6.5"
  }
 },
 "nbformat": 4,
 "nbformat_minor": 2
}
